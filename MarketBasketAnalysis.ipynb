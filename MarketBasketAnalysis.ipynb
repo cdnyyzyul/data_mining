{
  "cells": [
    {
      "cell_type": "markdown",
      "metadata": {
        "id": "hr5BXQys8q16"
      },
      "source": [
        "# Market Basket Analysis\n",
        "\n",
        "Market Basket Analysis (MBA) is a data mining analytics technique to uncover associations between products or product grouping. By exploring interesting patterns from an extensive collection of data, MBA aims to understand/reveal customer purchase behaviors based upon the theory that if you purchased a certain set of products, then you are more (or less) likely to buy another group of products. In other words, MBA allows retailers to identify the relationship between the items that customers buy, revealing patterns of items often purchased together.\n",
        "\n",
        "A widely used approach to explore these patterns is by constructing ***association rules*** such as\n",
        "- **if** bought *ITEM_1* **then** will buy *ITEM_2* with **confidence** *X*.\n",
        "\n",
        "These associations do not have to be 1-to-1 rules. They can involve many items. For example, a person in a supermarket may add eggs to his/her cart, then an MBA application may suggest that the person will also buy some bread and/or flour:\n",
        "\n",
        "+ **if** bought *EGGS* **then** will buy [*BREAD* with confidence *0.2*; *FLOUR* with confidence 0.05].\n",
        "\n",
        "However, if the person now decides to add flour to his/her cart, the new association rule could be as showing below, suggesting ingredients to make a cake.\n",
        "\n",
        "+ **if** bought [*EGGS, FLOUR*] **then** will buy [*SUGGAR* with confidence 0.45; BAKING POWDER with confidence 0.12; *BREAD* with confidence *0.03*].\n",
        "\n",
        "There are many real scenarios where MBA plays a central role in data analysis, such as supermarket transactions, online orders or credit card history. Marketers may use these association rules to arrange correlated products closer to each other on store shelves or make online suggestions so that customers buy more items. Some questions that an MBA can usually help retailers to answer are:\n",
        "\n",
        "- What items are often purchased together?\n",
        "- Given a basket, what items should be suggested?\n",
        "- How should items be placed together on the shelves?\n",
        "\n",
        "### Objective\n",
        "\n",
        "The goal is to develop an MBA algorithm for revealing patterns by creating association rules in a big dataset with more than three million supermarket transactions. However, mining association rules for large datasets is a very computationally intensive problem, which makes it almost impractical to perform it without a distributed system. Hence, to run the algorithm, we need access to a distributed cloud computing cluster with hundreds of cores.\n",
        "\n",
        "To this end, a **MapReduce** algorithm will be implemented upon the [Apache Spark](http://spark.apache.org) framework, a fast cluster computing system. In a nutshell, Spark is an open source framework designed with a *scale-out* methodology which makes it a very powerful tool for programmers or application developers to perform a massive volume of computations and data processing in distributed environments. Spark provides high-level APIs that make it easy to build parallel apps without needing to worry about how your code and data are parallelized/distributed thought the computing cluster.\n",
        "\n",
        "The implementation will follow the Market Basket Analysis algorithm presented by Jongwook Woo and Yuhang Xu (2012)."
      ]
    },
    {
      "cell_type": "markdown",
      "metadata": {
        "id": "bNhcTz-S3kSC"
      },
      "source": [
        "## 1. Setting up Spark\n",
        "\n",
        "Spark runs on both Windows and UNIX-like systems (e.g., Linux, Mac OS). It's easy to run locally on one machine — all we need is to have Java installed on system PATH, or the JAVA_HOME environment variable pointing to a Java installation.\n",
        "\n",
        "It is mandatory to have the **JDK v8/11** installed, as Spark currently only support this version.\n",
        "go to [Java's web page](https://www.oracle.com/java/technologies/javase-downloads.html) to download and install a Java Virtual Machine.\n",
        "Set the environment variable JAVA_HOME to use JDK v8/11.\n"
      ]
    },
    {
      "cell_type": "markdown",
      "metadata": {
        "id": "9AcWZg8plClY"
      },
      "source": [
        "#### Test Spark\n",
        "Using the following code to if the Spark is installed correctly."
      ]
    },
    {
      "cell_type": "code",
      "execution_count": null,
      "metadata": {
        "colab": {
          "referenced_widgets": [
            ""
          ]
        },
        "id": "t5SijH8OlCla",
        "outputId": "bf46d942-9f78-48b9-b8ae-8fe09cbfe08e"
      },
      "outputs": [
        {
          "name": "stdout",
          "output_type": "stream",
          "text": [
            "+-----+\n",
            "|hello|\n",
            "+-----+\n",
            "|spark|\n",
            "+-----+\n",
            "\n"
          ]
        }
      ],
      "source": [
        "import pyspark\n",
        "from pyspark.sql import SparkSession\n",
        "spark = SparkSession.builder.getOrCreate()\n",
        "df = spark.sql(\"select 'spark' as hello \")\n",
        "df.show()"
      ]
    },
    {
      "cell_type": "markdown",
      "metadata": {
        "id": "y4ItP9Ga8q27"
      },
      "source": [
        "### 1.1 Products Counting Example\n",
        "\n",
        "The example counts how many times the products are purchased using a toy dataset.\n",
        "\n",
        "The main entry point to start programming with Spark is the [RDD API](https://spark.apache.org/docs/3.1.1/api/python/reference/pyspark.html#rdd-apis), an excellent Spark abstraction to work with the MapReduce framework. Some useful functions that the RDD API offers are:\n",
        "\n",
        "1. **map**: return a new RDD by applying a function to each element of this RDD.\n",
        "2. **flatMap**: return a new RDD by first applying a function to all elements of this RDD, and then flattening the results. **Should be used when each entry will yield more than one mapped element**\n",
        "3. **reduce**: reduces the elements of this RDD using the specified commutative and associative binary operator.\n",
        "4. **reduceByKey**: merge the values for each key using an associative and commutative reduce function\n",
        "5. **groupByKey**: group the values for each key in the RDD into a single sequence\n",
        "6. **collect**: return a list that contains all of the elements in this RDD. **Should not be used when working with a lot of data**\n",
        "7. **sample**: return a sampled subset of this RDD\n",
        "8. **count**: return the number of elements in this RDD.\n",
        "9. **filter**: return a new RDD containing only the elements that satisfy a predicate."
      ]
    },
    {
      "cell_type": "code",
      "execution_count": null,
      "metadata": {
        "colab": {
          "referenced_widgets": [
            ""
          ]
        },
        "id": "_ozEKZvx8q28",
        "outputId": "c9f9421c-70a8-46a0-eba9-2f946aa184e2"
      },
      "outputs": [
        {
          "data": {
            "application/vnd.jupyter.widget-view+json": {
              "model_id": "",
              "version_major": 2,
              "version_minor": 0
            },
            "text/plain": [
              "FloatProgress(value=0.0, bar_style='info', description='Progress:', layout=Layout(height='25px', width='50%'),…"
            ]
          },
          "metadata": {},
          "output_type": "display_data"
        },
        {
          "name": "stdout",
          "output_type": "stream",
          "text": [
            "Toy dataset\n",
            "+--------+-----------+\n",
            "|order_id|transaction|\n",
            "+--------+-----------+\n",
            "|       1|    a;b;c;f|\n",
            "|       2|    d;b;a;e|\n",
            "|       3|        c;b|\n",
            "|       4|        b;c|\n",
            "+--------+-----------+\n",
            "\n",
            "Toy dataframe as a RDD object (list of Row objects):\n",
            "\t [Row(order_id='1', transaction='a;b;c;f'), Row(order_id='2', transaction='d;b;a;e'), Row(order_id='3', transaction='c;b'), Row(order_id='4', transaction='b;c')]\n",
            "\n",
            "Mapped products:\n",
            "\t [('a', 1), ('b', 1), ('c', 1), ('f', 1), ('d', 1), ('b', 1), ('a', 1), ('e', 1), ('c', 1), ('b', 1), ('b', 1), ('c', 1)]\n",
            "\n",
            "Reduced (merged) products:\n",
            "\t [('a', 2), ('b', 4), ('c', 3), ('f', 1), ('d', 1), ('e', 1)]\n",
            "+-------+-------------+\n",
            "|product|count_product|\n",
            "+-------+-------------+\n",
            "|      a|            2|\n",
            "|      b|            4|\n",
            "|      c|            3|\n",
            "|      f|            1|\n",
            "|      d|            1|\n",
            "|      e|            1|\n",
            "+-------+-------------+"
          ]
        }
      ],
      "source": [
        "from pyspark.sql import SparkSession\n",
        "def map_to_product(row):\n",
        "    \"\"\"\n",
        "    Map each transaction into a set of KEY-VALUE elements.\n",
        "    The KEY is the word (product) itself and the VALUE is its number of apparitions.\n",
        "    \"\"\"\n",
        "    products = row.transaction.split(';') # split products from the column transaction\n",
        "    for p in products:\n",
        "        yield (p, 1)\n",
        "\n",
        "def reduce_product_by_key(value1, value2):\n",
        "    \"Reduce the mapped objects to unique words by merging (summing ) their values\"\n",
        "    return value1+value2\n",
        "\n",
        "# Initializates a object of SparkSession class, main entry point to Spark's funcionalites\n",
        "spark = SparkSession.builder.getOrCreate()\n",
        "\n",
        "# Read a toy dataset\n",
        "toy = spark.read.csv('s3://projectnz/toy.csv', header=True)\n",
        "print(\"Toy dataset\")\n",
        "toy.show()\n",
        "\n",
        "# Obtain a RDD object to call a map function\n",
        "toy_rdd = toy.rdd\n",
        "print(\"Toy dataframe as a RDD object (list of Row objects):\\n\\t\", toy_rdd.collect())\n",
        "\n",
        "# Map function to identify all products\n",
        "toy_rdd = toy_rdd.flatMap(map_to_product, preservesPartitioning=False)\n",
        "print(\"\\nMapped products:\\n\\t\", toy_rdd.collect())\n",
        "\n",
        "# Reduce function to merge values of elements that share the same KEY\n",
        "toy_rdd = toy_rdd.reduceByKey(reduce_product_by_key)\n",
        "print(\"\\nReduced (merged) products:\\n\\t\", toy_rdd.collect())\n",
        "\n",
        "#print(\"\\nVisualizing as a dataframe:\")\n",
        "toy_rdd.toDF([\"product\", \"count_product\"]).show()"
      ]
    },
    {
      "cell_type": "markdown",
      "metadata": {
        "id": "UqH2nKRI8q3N"
      },
      "source": [
        "### 1.2 Working with Spark's Dataframe\n",
        "\n",
        "In the example above, we briefly used a Spark's Dataframe class, but only to obtain an RDD object with ```toy.rdd``` and to print the data as a structured table with the ```show()``` function. However, [Dataframe](https://spark.apache.org/docs/latest/api/python/pyspark.sql.html#) is a crucial part of the current Spark release and is built upon the RDD API. It is a distributed collection of rows under named columns, the same as a table in a relational database. Spark's Dataframe works similarly as [Pandas'](https://pandas.pydata.org/pandas-docs/stable/reference/api/pandas.DataFrame.html). In fact, we can export (obtain) a Spark's dataframe to (from) a pandas' data frame with the function ```toPandas()``` (```spark.createDataFrame```).\n",
        "\n",
        "A central functionality of the data frame is to profit from the [Spark SQL](https://spark.apache.org/docs/latest/sql-programming-guide.html#sql), a module that allows SQL queries over structured data. For example, the same 'product counting example' could have been implemented as a sequence of SQL operations over the data:  "
      ]
    },
    {
      "cell_type": "code",
      "execution_count": null,
      "metadata": {
        "colab": {
          "referenced_widgets": [
            ""
          ]
        },
        "id": "h68P1Pkr8q3N",
        "outputId": "12ace01c-41c4-4bb6-ca61-e3cbedd064f4"
      },
      "outputs": [
        {
          "data": {
            "application/vnd.jupyter.widget-view+json": {
              "model_id": "",
              "version_major": 2,
              "version_minor": 0
            },
            "text/plain": [
              "FloatProgress(value=0.0, bar_style='info', description='Progress:', layout=Layout(height='25px', width='50%'),…"
            ]
          },
          "metadata": {},
          "output_type": "display_data"
        },
        {
          "name": "stdout",
          "output_type": "stream",
          "text": [
            "New column 'products': exploding the transaction's products to a new row\n",
            "+--------+-----------+--------+\n",
            "|order_id|transaction|products|\n",
            "+--------+-----------+--------+\n",
            "|       1|    a;b;c;f|       a|\n",
            "|       1|    a;b;c;f|       b|\n",
            "|       1|    a;b;c;f|       c|\n",
            "|       1|    a;b;c;f|       f|\n",
            "|       2|    d;b;a;e|       d|\n",
            "|       2|    d;b;a;e|       b|\n",
            "|       2|    d;b;a;e|       a|\n",
            "|       2|    d;b;a;e|       e|\n",
            "|       3|        c;b|       c|\n",
            "|       3|        c;b|       b|\n",
            "|       4|        b;c|       b|\n",
            "|       4|        b;c|       c|\n",
            "+--------+-----------+--------+\n",
            "\n",
            "Couting unique products:\n",
            "+--------+-------------+\n",
            "|products|count_product|\n",
            "+--------+-------------+\n",
            "|       b|            4|\n",
            "|       c|            3|\n",
            "|       a|            2|\n",
            "|       e|            1|\n",
            "|       f|            1|\n",
            "|       d|            1|\n",
            "+--------+-------------+"
          ]
        }
      ],
      "source": [
        "import pyspark.sql.functions as f\n",
        "\n",
        "# Creates a new column, products, with all products appering in each transaction\n",
        "print('New column \\'products\\': exploding the transaction\\'s products to a new row')\n",
        "df_toy = toy.withColumn('products', f.explode(f.split(toy.transaction, ';')))\n",
        "df_toy.show()\n",
        "\n",
        "# Performs a select query and group rows by the product name, aggreagating by counting\n",
        "print('Couting unique products:')\n",
        "df_toy.select(df_toy.products)\\\n",
        "    .groupBy(df_toy.products)\\\n",
        "    .agg(f.count('products').alias('count_product'))\\\n",
        "    .sort('count_product', ascending=False)\\\n",
        "    .show()\n"
      ]
    },
    {
      "cell_type": "markdown",
      "metadata": {
        "id": "F_IU_rf18q3S"
      },
      "source": [
        "Also, the same SQL operations performed above could have been done with a traditional SQL language query as showing below:"
      ]
    },
    {
      "cell_type": "code",
      "execution_count": null,
      "metadata": {
        "colab": {
          "referenced_widgets": [
            ""
          ]
        },
        "id": "c68l__Eb8q3S",
        "outputId": "c3623530-0c65-4183-9f53-60c1ce8155de"
      },
      "outputs": [
        {
          "data": {
            "application/vnd.jupyter.widget-view+json": {
              "model_id": "",
              "version_major": 2,
              "version_minor": 0
            },
            "text/plain": [
              "FloatProgress(value=0.0, bar_style='info', description='Progress:', layout=Layout(height='25px', width='50%'),…"
            ]
          },
          "metadata": {},
          "output_type": "display_data"
        },
        {
          "name": "stdout",
          "output_type": "stream",
          "text": [
            "+--------+-------------+\n",
            "|products|product_count|\n",
            "+--------+-------------+\n",
            "|       b|            4|\n",
            "|       c|            3|\n",
            "|       a|            2|\n",
            "|       d|            1|\n",
            "|       e|            1|\n",
            "|       f|            1|\n",
            "+--------+-------------+"
          ]
        }
      ],
      "source": [
        "# Creates a relational table TOY in the Spark session\n",
        "df_toy.createOrReplaceTempView(\"TOY\")\n",
        "\n",
        "spark.sql(\"SELECT t.products, COUNT(t.products) AS product_count\"\n",
        "          \" FROM TOY t\"\n",
        "          \" GROUP BY t.products\"\n",
        "          \" ORDER BY product_count DESC\").show()"
      ]
    },
    {
      "cell_type": "markdown",
      "metadata": {
        "id": "8Ck1hRFC8q3U"
      },
      "source": [
        "## 2. MBA Algorithm\n",
        "The following sections explain how you should develop each step of the MapReduce algorithm for our supermarket application. Figure workflow.pdf illustrates each step of the algorithm.\n",
        "\n",
        "### 2.1 Map to Patterns\n",
        "For a given set of transactions (i.e., the rows of our toy dataset), each transaction must be **mapped** into a set of *purchase patterns* found within the transaction. Formally, these patterns are subsets of products that represent a group of items bought together.\n"
      ]
    },
    {
      "cell_type": "code",
      "execution_count": null,
      "metadata": {
        "colab": {
          "referenced_widgets": [
            ""
          ]
        },
        "id": "XgcZFavR8q3U",
        "outputId": "6b1d0beb-2a0b-4642-baad-d2b0be87ec6b",
        "scrolled": true
      },
      "outputs": [
        {
          "data": {
            "application/vnd.jupyter.widget-view+json": {
              "model_id": "",
              "version_major": 2,
              "version_minor": 0
            },
            "text/plain": [
              "FloatProgress(value=0.0, bar_style='info', description='Progress:', layout=Layout(height='25px', width='50%'),…"
            ]
          },
          "metadata": {},
          "output_type": "display_data"
        },
        {
          "name": "stdout",
          "output_type": "stream",
          "text": [
            "+---------------+-----------+\n",
            "|       patterns|occurrences|\n",
            "+---------------+-----------+\n",
            "|         ('a',)|          1|\n",
            "|         ('b',)|          1|\n",
            "|         ('c',)|          1|\n",
            "|         ('f',)|          1|\n",
            "|     ('a', 'b')|          1|\n",
            "|     ('a', 'c')|          1|\n",
            "|     ('a', 'f')|          1|\n",
            "|     ('b', 'c')|          1|\n",
            "|     ('b', 'f')|          1|\n",
            "|     ('c', 'f')|          1|\n",
            "|('a', 'b', 'c')|          1|\n",
            "|('a', 'b', 'f')|          1|\n",
            "|('a', 'c', 'f')|          1|\n",
            "|('b', 'c', 'f')|          1|\n",
            "|         ('d',)|          1|\n",
            "|         ('b',)|          1|\n",
            "|         ('a',)|          1|\n",
            "|         ('e',)|          1|\n",
            "|     ('d', 'b')|          1|\n",
            "|     ('d', 'a')|          1|\n",
            "|     ('d', 'e')|          1|\n",
            "|     ('b', 'a')|          1|\n",
            "|     ('b', 'e')|          1|\n",
            "|     ('a', 'e')|          1|\n",
            "|('d', 'b', 'a')|          1|\n",
            "|('d', 'b', 'e')|          1|\n",
            "|('d', 'a', 'e')|          1|\n",
            "|('b', 'a', 'e')|          1|\n",
            "|         ('c',)|          1|\n",
            "|         ('b',)|          1|\n",
            "|     ('c', 'b')|          1|\n",
            "|         ('b',)|          1|\n",
            "|         ('c',)|          1|\n",
            "|     ('b', 'c')|          1|\n",
            "+---------------+-----------+"
          ]
        }
      ],
      "source": [
        "import itertools\n",
        "\n",
        "def format_tuples(pattern):\n",
        "    \"\"\"\n",
        "    Used for visualizition.\n",
        "    Transforms tuples to a string since Dataframe does not support column of tuples with different sizes\n",
        "    (a,b,c) -> '(a,b,c)'\n",
        "    \"\"\"\n",
        "    return (str(pattern[0]), str(pattern[1]))\n",
        "\n",
        "def map_to_patterns(row):\n",
        "    \"\"\"\n",
        "    receives a transaction and returns the patterns found in it.\n",
        "    Mapped elements are a tuple (KEY, VALUE), where the KEY is a tuple of product names; the VALUE is its number of apparitions.\n",
        "    \"\"\"\n",
        "    # row is Row object (https://spark.apache.org/docs/latest/api/python/reference/api/pyspark.sql.Row.html)\n",
        "\n",
        "    products = row.transaction.split(';') # split products from the column transaction\n",
        "    combinations = []\n",
        "    for r in range(1, 4):\n",
        "        if r <= len(products):\n",
        "            combinations_object = itertools.combinations(products, r)\n",
        "            combinations += list(combinations_object)\n",
        "    for p in combinations:\n",
        "        yield (p, 1)\n",
        "\n",
        "\n",
        "toy_rdd = toy.rdd\n",
        "\"\"\"\n",
        "Since each entry (transaction) of the map function will yield more than one KEY-VALUE element,  a *flatMap* must be invoked for this step.\n",
        "\"\"\"\n",
        "patterns_rdd = toy_rdd.flatMap(map_to_patterns)\n",
        "\n",
        "# Output as dataframe\n",
        "patterns_rdd.map(format_tuples).toDF(['patterns', 'occurrences']).show(50)"
      ]
    },
    {
      "cell_type": "markdown",
      "metadata": {
        "id": "djN0Eb-68q3W"
      },
      "source": [
        "### 2.2 Reduce patterns\n",
        "Once different CPUs processed the transactions, a **reduce** function must take place to combine identical KEYS (the subset of products) and compute the total number of its occurrences in the entire dataset. In other words, this reduce procedure must sum the *VALUE* of each identical KEY."
      ]
    },
    {
      "cell_type": "code",
      "execution_count": null,
      "metadata": {
        "colab": {
          "referenced_widgets": [
            ""
          ]
        },
        "id": "VHA6boqv8q3W",
        "outputId": "0d09339c-2823-46bf-a596-7b294d92454a"
      },
      "outputs": [
        {
          "data": {
            "application/vnd.jupyter.widget-view+json": {
              "model_id": "",
              "version_major": 2,
              "version_minor": 0
            },
            "text/plain": [
              "FloatProgress(value=0.0, bar_style='info', description='Progress:', layout=Layout(height='25px', width='50%'),…"
            ]
          },
          "metadata": {},
          "output_type": "display_data"
        },
        {
          "name": "stdout",
          "output_type": "stream",
          "text": [
            "+---------------+--------------------+\n",
            "|       patterns|combined_occurrences|\n",
            "+---------------+--------------------+\n",
            "|         ('a',)|                   2|\n",
            "|         ('b',)|                   4|\n",
            "|         ('c',)|                   3|\n",
            "|         ('f',)|                   1|\n",
            "|     ('a', 'b')|                   1|\n",
            "|     ('a', 'c')|                   1|\n",
            "|     ('a', 'f')|                   1|\n",
            "|     ('b', 'c')|                   2|\n",
            "|     ('b', 'f')|                   1|\n",
            "|     ('c', 'f')|                   1|\n",
            "|('a', 'b', 'c')|                   1|\n",
            "|('a', 'b', 'f')|                   1|\n",
            "|('a', 'c', 'f')|                   1|\n",
            "|('b', 'c', 'f')|                   1|\n",
            "|         ('d',)|                   1|\n",
            "|         ('e',)|                   1|\n",
            "|     ('d', 'b')|                   1|\n",
            "|     ('d', 'a')|                   1|\n",
            "|     ('d', 'e')|                   1|\n",
            "|     ('b', 'a')|                   1|\n",
            "|     ('b', 'e')|                   1|\n",
            "|     ('a', 'e')|                   1|\n",
            "|('d', 'b', 'a')|                   1|\n",
            "|('d', 'b', 'e')|                   1|\n",
            "|('d', 'a', 'e')|                   1|\n",
            "|('b', 'a', 'e')|                   1|\n",
            "|     ('c', 'b')|                   1|\n",
            "+---------------+--------------------+"
          ]
        }
      ],
      "source": [
        "\n",
        "def reduce_patterns(value1, value2):\n",
        "    \"\"\"\n",
        "    combine identical KEYS (the subset of products) and compute the total number of its occurrences\n",
        "    \"\"\"\n",
        "    return value1 + value2\n",
        "\n",
        "\n",
        "combined_patterns_rdd = patterns_rdd.reduceByKey(reduce_patterns) #TODO\n",
        "\n",
        "# Output as dataframe\n",
        "combined_patterns_rdd.map(format_tuples).toDF(['patterns', 'combined_occurrences']).show(50)"
      ]
    },
    {
      "cell_type": "markdown",
      "metadata": {
        "id": "PvHh4-RR8q3Y"
      },
      "source": [
        "### 2.3 Map to subpatterns\n",
        "Next, another **map** function should be applied to generate subpatterns. Once again, the subpatterns are KEY-VALUE elements, where the KEY is a subset of products as well. However, creating the subpattern's KEY is a different procedure. This time, the idea is to break down the list of products of each pattern (pattern KEY), remove one product at a time, and yield the resulting list as the new subpattern KEY.\n",
        "\n",
        "For example, for a given pattern $P$ with three products, $p_1, p_2 $ and $p_3$, three new subpatterns KEYs are going to be created: (i) remove $p_1$ and yield ($p_2, p_3$); (ii) remove $p_2$ and yield ($p_1,p_3$); and (iii) remove $p_3$ and yield ($p_1,p_2$).\n",
        "\n",
        "Additionally, the subpattern's VALUE structure will also be different. Instead of just single integer value as we had in the patterns, this time a *tuple* should be created for the subpattern VALUE. This tuple contains the product that was removed when yielding the KEY and the number of times the pattern appeared. For example above, the values should be ($p_1,v$), ($p_2,v$) and ($p_3,v$), respectively, where $v$ is the VALUE of the pattern.\n",
        "\n",
        "The idea behind subpatterns is to create **rules** such as: when the products of KEY were bought, the item present in the VALUE was also bought *v* times. Furthermore, each pattern should also yield a subpattern where the KEY is the same list of products of the pattern, but the VALUE is a tuple with a null product (None) and the number of times the pattern appeared. This element will be useful to keep track of how many times such a pattern was found and later will be used to compute the confidence value when generating the association rules."
      ]
    },
    {
      "cell_type": "code",
      "execution_count": null,
      "metadata": {
        "colab": {
          "referenced_widgets": [
            ""
          ]
        },
        "id": "iAzW7ExI8q3Y",
        "outputId": "deef7c15-340b-4eb8-d70f-37461a1fd281"
      },
      "outputs": [
        {
          "data": {
            "application/vnd.jupyter.widget-view+json": {
              "model_id": "",
              "version_major": 2,
              "version_minor": 0
            },
            "text/plain": [
              "FloatProgress(value=0.0, bar_style='info', description='Progress:', layout=Layout(height='25px', width='50%'),…"
            ]
          },
          "metadata": {},
          "output_type": "display_data"
        },
        {
          "name": "stdout",
          "output_type": "stream",
          "text": [
            "+---------------+---------+\n",
            "|    subpatterns|    rules|\n",
            "+---------------+---------+\n",
            "|         ('a',)|(None, 2)|\n",
            "|         ('b',)|(None, 4)|\n",
            "|         ('c',)|(None, 3)|\n",
            "|         ('f',)|(None, 1)|\n",
            "|     ('a', 'b')|(None, 1)|\n",
            "|         ('b',)| ('a', 1)|\n",
            "|         ('a',)| ('b', 1)|\n",
            "|     ('a', 'c')|(None, 1)|\n",
            "|         ('c',)| ('a', 1)|\n",
            "|         ('a',)| ('c', 1)|\n",
            "|     ('a', 'f')|(None, 1)|\n",
            "|         ('f',)| ('a', 1)|\n",
            "|         ('a',)| ('f', 1)|\n",
            "|     ('b', 'c')|(None, 2)|\n",
            "|         ('c',)| ('b', 2)|\n",
            "|         ('b',)| ('c', 2)|\n",
            "|     ('b', 'f')|(None, 1)|\n",
            "|         ('f',)| ('b', 1)|\n",
            "|         ('b',)| ('f', 1)|\n",
            "|     ('c', 'f')|(None, 1)|\n",
            "|         ('f',)| ('c', 1)|\n",
            "|         ('c',)| ('f', 1)|\n",
            "|('a', 'b', 'c')|(None, 1)|\n",
            "|     ('b', 'c')| ('a', 1)|\n",
            "|     ('a', 'c')| ('b', 1)|\n",
            "|     ('a', 'b')| ('c', 1)|\n",
            "|('a', 'b', 'f')|(None, 1)|\n",
            "|     ('b', 'f')| ('a', 1)|\n",
            "|     ('a', 'f')| ('b', 1)|\n",
            "|     ('a', 'b')| ('f', 1)|\n",
            "|('a', 'c', 'f')|(None, 1)|\n",
            "|     ('c', 'f')| ('a', 1)|\n",
            "|     ('a', 'f')| ('c', 1)|\n",
            "|     ('a', 'c')| ('f', 1)|\n",
            "|('b', 'c', 'f')|(None, 1)|\n",
            "|     ('c', 'f')| ('b', 1)|\n",
            "|     ('b', 'f')| ('c', 1)|\n",
            "|     ('b', 'c')| ('f', 1)|\n",
            "|         ('d',)|(None, 1)|\n",
            "|         ('e',)|(None, 1)|\n",
            "|     ('d', 'b')|(None, 1)|\n",
            "|         ('b',)| ('d', 1)|\n",
            "|         ('d',)| ('b', 1)|\n",
            "|     ('d', 'a')|(None, 1)|\n",
            "|         ('a',)| ('d', 1)|\n",
            "|         ('d',)| ('a', 1)|\n",
            "|     ('d', 'e')|(None, 1)|\n",
            "|         ('e',)| ('d', 1)|\n",
            "|         ('d',)| ('e', 1)|\n",
            "|     ('b', 'a')|(None, 1)|\n",
            "|         ('a',)| ('b', 1)|\n",
            "|         ('b',)| ('a', 1)|\n",
            "|     ('b', 'e')|(None, 1)|\n",
            "|         ('e',)| ('b', 1)|\n",
            "|         ('b',)| ('e', 1)|\n",
            "|     ('a', 'e')|(None, 1)|\n",
            "|         ('e',)| ('a', 1)|\n",
            "|         ('a',)| ('e', 1)|\n",
            "|('d', 'b', 'a')|(None, 1)|\n",
            "|     ('b', 'a')| ('d', 1)|\n",
            "|     ('d', 'a')| ('b', 1)|\n",
            "|     ('d', 'b')| ('a', 1)|\n",
            "|('d', 'b', 'e')|(None, 1)|\n",
            "|     ('b', 'e')| ('d', 1)|\n",
            "|     ('d', 'e')| ('b', 1)|\n",
            "|     ('d', 'b')| ('e', 1)|\n",
            "|('d', 'a', 'e')|(None, 1)|\n",
            "|     ('a', 'e')| ('d', 1)|\n",
            "|     ('d', 'e')| ('a', 1)|\n",
            "|     ('d', 'a')| ('e', 1)|\n",
            "|('b', 'a', 'e')|(None, 1)|\n",
            "|     ('a', 'e')| ('b', 1)|\n",
            "|     ('b', 'e')| ('a', 1)|\n",
            "|     ('b', 'a')| ('e', 1)|\n",
            "|     ('c', 'b')|(None, 1)|\n",
            "|         ('b',)| ('c', 1)|\n",
            "|         ('c',)| ('b', 1)|\n",
            "+---------------+---------+"
          ]
        }
      ],
      "source": [
        "#from copy import deepcopy\n",
        "\n",
        "def map_to_subpatterns(pattern):\n",
        "    \"\"\"\n",
        "    KEY: a subset of products; break down the list of products of each pattern (pattern KEY), remove one product at a time.\n",
        "    VALUE: tuple contains the product that was removed when yielding the KEY and the number of times the pattern appeared.\n",
        "    \"\"\"\n",
        "    result = []\n",
        "\n",
        "    result.append((pattern[0], (None, pattern[1])))\n",
        "    if len(pattern[0]) > 1:\n",
        "        for i in range(len(pattern[0])):\n",
        "            result.append((pattern[0][:i] + pattern[0][(i + 1):], (pattern[0][i], pattern[1])))\n",
        "\n",
        "    for sublist in result:\n",
        "        yield sublist\n",
        "\n",
        "\n",
        "subpatterns_rdd = combined_patterns_rdd.flatMap(map_to_subpatterns)   #TODO\n",
        "\n",
        "# Output as dataframe\n",
        "subpatterns_rdd.map(format_tuples).toDF(['subpatterns', 'rules']).show(100)"
      ]
    },
    {
      "cell_type": "markdown",
      "metadata": {
        "id": "HtiAJVMi8q3a"
      },
      "source": [
        "### 2.4 Reduce Subpatterns\n",
        "Once again, a **reduce** function will be required to group all the subpatterns by their KEY. The objective of this reducing procedure is to create a list of all **rules** that appeared in KEY. Hence, the expected output resulting from this reduce function is also a KEY-VALUE element, where the KEY is the subpattern's KEY, and the VALUE is a group containing all the VALUEs of the subpatterns that share the same KEY."
      ]
    },
    {
      "cell_type": "code",
      "execution_count": null,
      "metadata": {
        "colab": {
          "referenced_widgets": [
            ""
          ]
        },
        "id": "2rI4Q9Ok8q3a",
        "outputId": "874be091-3682-43ec-fc82-a21f8f960913"
      },
      "outputs": [
        {
          "data": {
            "application/vnd.jupyter.widget-view+json": {
              "model_id": "",
              "version_major": 2,
              "version_minor": 0
            },
            "text/plain": [
              "FloatProgress(value=0.0, bar_style='info', description='Progress:', layout=Layout(height='25px', width='50%'),…"
            ]
          },
          "metadata": {},
          "output_type": "display_data"
        },
        {
          "name": "stdout",
          "output_type": "stream",
          "text": [
            "+---------------+---------------------------------------------------------------------------------+\n",
            "|subpatterns    |combined_rules                                                                   |\n",
            "+---------------+---------------------------------------------------------------------------------+\n",
            "|('a',)         |[(None, 2), ('b', 1), ('c', 1), ('f', 1), ('d', 1), ('b', 1), ('e', 1)]          |\n",
            "|('b',)         |[(None, 4), ('a', 1), ('c', 2), ('f', 1), ('d', 1), ('a', 1), ('e', 1), ('c', 1)]|\n",
            "|('c',)         |[(None, 3), ('a', 1), ('b', 2), ('f', 1), ('b', 1)]                              |\n",
            "|('f',)         |[(None, 1), ('a', 1), ('b', 1), ('c', 1)]                                        |\n",
            "|('a', 'b')     |[(None, 1), ('c', 1), ('f', 1)]                                                  |\n",
            "|('a', 'c')     |[(None, 1), ('b', 1), ('f', 1)]                                                  |\n",
            "|('a', 'f')     |[(None, 1), ('b', 1), ('c', 1)]                                                  |\n",
            "|('b', 'c')     |[(None, 2), ('a', 1), ('f', 1)]                                                  |\n",
            "|('b', 'f')     |[(None, 1), ('a', 1), ('c', 1)]                                                  |\n",
            "|('c', 'f')     |[(None, 1), ('a', 1), ('b', 1)]                                                  |\n",
            "|('a', 'b', 'c')|[(None, 1)]                                                                      |\n",
            "|('a', 'b', 'f')|[(None, 1)]                                                                      |\n",
            "|('a', 'c', 'f')|[(None, 1)]                                                                      |\n",
            "|('b', 'c', 'f')|[(None, 1)]                                                                      |\n",
            "|('d',)         |[(None, 1), ('b', 1), ('a', 1), ('e', 1)]                                        |\n",
            "|('e',)         |[(None, 1), ('d', 1), ('b', 1), ('a', 1)]                                        |\n",
            "|('d', 'b')     |[(None, 1), ('a', 1), ('e', 1)]                                                  |\n",
            "|('d', 'a')     |[(None, 1), ('b', 1), ('e', 1)]                                                  |\n",
            "|('d', 'e')     |[(None, 1), ('b', 1), ('a', 1)]                                                  |\n",
            "|('b', 'a')     |[(None, 1), ('d', 1), ('e', 1)]                                                  |\n",
            "+---------------+---------------------------------------------------------------------------------+\n",
            "only showing top 20 rows"
          ]
        }
      ],
      "source": [
        "combined_rules = subpatterns_rdd.groupByKey().mapValues(list)\n",
        "\n",
        "# Output as dataframe\n",
        "combined_rules.map(format_tuples).toDF(['subpatterns', 'combined_rules']).show(truncate=False)"
      ]
    },
    {
      "cell_type": "markdown",
      "metadata": {
        "id": "VUSqO2F78q3c"
      },
      "source": [
        "## 2.5. Map to Association Rules\n",
        "Finally, the last step of the algorithm is to create the association rules to perform the market basket analysis. The goal of this map function is to calculate the **confidence** level of buying a product, knowing that there is already a set of products in the basket. Thus, the KEY of the subpattern is the set of products placed in the basket and, for each product present in the list of rules, i.e., in the VALUE, the confidence can be calculated as:\n",
        "\n",
        "\\begin{align*}\n",
        "\\frac{\\text{number of times the product was bought together with KEY }}{\\text{number of times the KEY appeared}}\n",
        "\\end{align*}\n",
        "\n",
        "For the example given in the Figure workflow, *coffee* was bought 20 times and, in 17 of them, *milk* was bought together. Then, the confidence level of buying *milk* knowing that *coffee* is in the basket is $\\frac{17}{20} = 0.85$, which means that in 85% of the times the coffee was bought, milk was purchased as well."
      ]
    },
    {
      "cell_type": "code",
      "execution_count": null,
      "metadata": {
        "colab": {
          "referenced_widgets": [
            ""
          ]
        },
        "id": "4afeIBQQ8q3d",
        "outputId": "a1d9617e-0206-439a-e33f-abf8cb8745fc"
      },
      "outputs": [
        {
          "data": {
            "application/vnd.jupyter.widget-view+json": {
              "model_id": "",
              "version_major": 2,
              "version_minor": 0
            },
            "text/plain": [
              "FloatProgress(value=0.0, bar_style='info', description='Progress:', layout=Layout(height='25px', width='50%'),…"
            ]
          },
          "metadata": {},
          "output_type": "display_data"
        },
        {
          "name": "stdout",
          "output_type": "stream",
          "text": [
            "+---------------+------------------------------------------------------------------------------------------------------------+\n",
            "|patterns       |association_rules                                                                                           |\n",
            "+---------------+------------------------------------------------------------------------------------------------------------+\n",
            "|('a',)         |[('b', 0.5), ('c', 0.5), ('f', 0.5), ('d', 0.5), ('b', 0.5), ('e', 0.5)]                                    |\n",
            "|('b',)         |[('a', 0.25), ('c', 0.5), ('f', 0.25), ('d', 0.25), ('a', 0.25), ('e', 0.25), ('c', 0.25)]                  |\n",
            "|('c',)         |[('a', 0.3333333333333333), ('b', 0.6666666666666666), ('f', 0.3333333333333333), ('b', 0.3333333333333333)]|\n",
            "|('f',)         |[('a', 1.0), ('b', 1.0), ('c', 1.0)]                                                                        |\n",
            "|('a', 'b')     |[('c', 1.0), ('f', 1.0)]                                                                                    |\n",
            "|('a', 'c')     |[('b', 1.0), ('f', 1.0)]                                                                                    |\n",
            "|('a', 'f')     |[('b', 1.0), ('c', 1.0)]                                                                                    |\n",
            "|('b', 'c')     |[('a', 0.5), ('f', 0.5)]                                                                                    |\n",
            "|('b', 'f')     |[('a', 1.0), ('c', 1.0)]                                                                                    |\n",
            "|('c', 'f')     |[('a', 1.0), ('b', 1.0)]                                                                                    |\n",
            "|('a', 'b', 'c')|[]                                                                                                          |\n",
            "|('a', 'b', 'f')|[]                                                                                                          |\n",
            "|('a', 'c', 'f')|[]                                                                                                          |\n",
            "|('b', 'c', 'f')|[]                                                                                                          |\n",
            "|('d',)         |[('b', 1.0), ('a', 1.0), ('e', 1.0)]                                                                        |\n",
            "|('e',)         |[('d', 1.0), ('b', 1.0), ('a', 1.0)]                                                                        |\n",
            "|('d', 'b')     |[('a', 1.0), ('e', 1.0)]                                                                                    |\n",
            "|('d', 'a')     |[('b', 1.0), ('e', 1.0)]                                                                                    |\n",
            "|('d', 'e')     |[('b', 1.0), ('a', 1.0)]                                                                                    |\n",
            "|('b', 'a')     |[('d', 1.0), ('e', 1.0)]                                                                                    |\n",
            "+---------------+------------------------------------------------------------------------------------------------------------+\n",
            "only showing top 20 rows"
          ]
        }
      ],
      "source": [
        "# The (None, num) should always be the first element. If yes, use the 2nd, otherwise, use the 1st.\n",
        "\n",
        "def map_to_assoc_rules(rule):\n",
        "    for i in rule:\n",
        "        if i[0] == None:\n",
        "            appearance = i[1]\n",
        "    for i in rule:\n",
        "        if i[0] != None:\n",
        "            confidence = float(i[1])/ appearance\n",
        "            yield (i[0], confidence)\n",
        "\n",
        "# def map_to_assoc_rules(rule):\n",
        "#     \"\"\"\n",
        "#     KEY:  KEY of the subpatterns\n",
        "#     VALUE: the confidence level of each product in the list of rules\n",
        "#     return: key, [(product, confidence_level)...]\n",
        "#     \"\"\"\n",
        "#    # print(rule)\n",
        "#     for i in rule[1:]:\n",
        "#         confidence = float(i[1])/ rule[0][1]\n",
        "#         yield (i[0], confidence)\n",
        "\n",
        "\n",
        "assoc_rules = combined_rules.mapValues(map_to_assoc_rules).mapValues(list) #TODO\n",
        "\n",
        "# Output as dataframe\n",
        "assoc_rules.map(format_tuples).toDF(['patterns', 'association_rules']).show(truncate=False)"
      ]
    },
    {
      "cell_type": "markdown",
      "metadata": {
        "id": "zKfTQs2U8q3f"
      },
      "source": [
        "## 3. Instacart dataset\n",
        "\n",
        "Now that the MBA algorithm ready to be used, it is time to work on the real dataset. We download the [instacart](https://www.dropbox.com/s/qa7nsw2at3hsbmp/instacart.zip?dl=0) dataset and read its [description](https://gist.github.com/jeremystan/c3b39d947d9b88b3ccff3147dbcf6c6b) to understand how the dataset is structured.\n",
        "\n",
        "Before applying the developed algorithm on the instacart dataset, we first filter the transactions to be in the same format defined by the algorithm (one transaction per row). To manipulate the data, we use Spark's data frame and the SQL module.\n",
        "\n",
        "The following code cell uses the Spark SQL module to read the orders from the ``order_products__train.csv`` and the detailed information from ``orders.csv`` and ``products.csv`` to construct a data frame that contains a list of all products ever purchased by each user."
      ]
    },
    {
      "cell_type": "code",
      "execution_count": null,
      "metadata": {
        "id": "J7Sel7Mm8q3f",
        "outputId": "c3984078-f7e2-4445-c175-86aa4ff3b369"
      },
      "outputs": [
        {
          "name": "stdout",
          "output_type": "stream",
          "text": [
            "order_products__train.csv\n",
            "+--------+----------+-----------------+---------+\n",
            "|order_id|product_id|add_to_cart_order|reordered|\n",
            "+--------+----------+-----------------+---------+\n",
            "|       1|     49302|                1|        1|\n",
            "|       1|     11109|                2|        1|\n",
            "|       1|     10246|                3|        0|\n",
            "|       1|     49683|                4|        0|\n",
            "|       1|     43633|                5|        1|\n",
            "+--------+----------+-----------------+---------+\n",
            "only showing top 5 rows\n",
            "\n",
            "orders.csv\n",
            "+--------+-------+--------+------------+---------+-----------------+----------------------+\n",
            "|order_id|user_id|eval_set|order_number|order_dow|order_hour_of_day|days_since_prior_order|\n",
            "+--------+-------+--------+------------+---------+-----------------+----------------------+\n",
            "| 2539329|      1|   prior|           1|        2|                8|                  null|\n",
            "| 2398795|      1|   prior|           2|        3|                7|                  15.0|\n",
            "|  473747|      1|   prior|           3|        3|               12|                  21.0|\n",
            "| 2254736|      1|   prior|           4|        4|                7|                  29.0|\n",
            "|  431534|      1|   prior|           5|        4|               15|                  28.0|\n",
            "+--------+-------+--------+------------+---------+-----------------+----------------------+\n",
            "only showing top 5 rows\n",
            "\n",
            "products.csv\n",
            "+----------+--------------------+--------+-------------+\n",
            "|product_id|        product_name|aisle_id|department_id|\n",
            "+----------+--------------------+--------+-------------+\n",
            "|         1|Chocolate Sandwic...|      61|           19|\n",
            "|         2|    All-Seasons Salt|     104|           13|\n",
            "|         3|Robust Golden Uns...|      94|            7|\n",
            "|         4|Smart Ones Classi...|      38|            1|\n",
            "|         5|Green Chile Anyti...|       5|           13|\n",
            "+----------+--------------------+--------+-------------+\n",
            "only showing top 5 rows\n",
            "\n",
            "+-------+--------------------------------------------------------------------------------+\n",
            "|user_id|                                                                        products|\n",
            "+-------+--------------------------------------------------------------------------------+\n",
            "|      1|[Soda, Organic String Cheese, 0% Greek Strained Yogurt, XL Pick-A-Size Paper ...|\n",
            "|      2|[Organic Roasted Turkey Breast, Gluten Free Whole Grain Bread, Plantain Chips...|\n",
            "|      5|[Organic Raw Agave Nectar, Organic Large Extra Fancy Fuji Apple, Sharp Chedda...|\n",
            "|      7|[Panama Peach Antioxidant Infusion, Antioxidant Infusions Beverage Malawi Man...|\n",
            "|      8|[Shallot, Organic SprouTofu Silken Tofu, Nutritional Yeast Seasoning, Organic...|\n",
            "+-------+--------------------------------------------------------------------------------+\n",
            "only showing top 5 rows\n",
            "\n"
          ]
        }
      ],
      "source": [
        "#\n",
        "\n",
        "df_order_prod = spark.read.csv('instacart/order_products__train.csv', header=True, sep=',', inferSchema=True)\n",
        "print('order_products__train.csv')\n",
        "df_order_prod.show(5)\n",
        "\n",
        "df_orders = spark.read.csv('instacart/orders.csv', header=True, sep=',', inferSchema=True)\n",
        "print('orders.csv')\n",
        "df_orders.show(5)\n",
        "\n",
        "df_products = spark.read.csv('instacart/products.csv', header=True, sep=',', inferSchema=True)\n",
        "print('products.csv')\n",
        "df_products.show(5)\n",
        "\n",
        "\n",
        "\"\"\"\n",
        "List of products ever purchased by each user\n",
        "\"\"\"\n",
        "# USING SQL\n",
        "df_order_prod.createOrReplaceTempView(\"order_prod\") # creates table 'order_prod'\n",
        "df_orders.createOrReplaceTempView(\"orders\") # creates table 'orders'\n",
        "df_products.createOrReplaceTempView(\"products\") # creates table 'products'\n",
        "spark.sql('SELECT o.user_id, COLLECT_LIST(p.product_name) AS products'\n",
        "               ' FROM orders o '\n",
        "               ' INNER JOIN order_prod op ON op.order_id = o.order_id'\n",
        "               ' INNER JOIN products p    ON op.product_id = p.product_id'\n",
        "               ' GROUP BY user_id ORDER BY o.user_id').show(5, truncate=80)\n",
        "\n",
        "\n",
        "# USING DATAFRAME OPERATIONS\n",
        "# df_orders.join(df_order_prod, df_order_prod.order_id == df_orders.order_id, 'inner')\\\n",
        "# .join(df_products, df_products.product_id == df_order_prod.product_id, 'inner')\\\n",
        "# .groupBy(df_orders.user_id).agg(f.collect_list(df_products.product_name).alias('products'))\\\n",
        "# .orderBy(df_orders.user_id).show(5, truncate=80)"
      ]
    },
    {
      "cell_type": "markdown",
      "metadata": {
        "id": "HEPhyKpC8q3h"
      },
      "source": [
        "### 3.1 Business Insights\n",
        "\n",
        "Considering only the orders of ``order_products__train.csv``, we will answer the following questions using Spark SQL module with SQL or data frame.\n",
        "\n",
        "1. What are the top 10 products which have the highest probability of being reordered? Consider only products purchased at least 40 times for this task.\n",
        "2. What are the top 3 most purchased products of each department?\n",
        "4. What is the average basket size for each day of the week?\n"
      ]
    },
    {
      "cell_type": "markdown",
      "metadata": {
        "id": "13PB2wiLhWl1"
      },
      "source": [
        "### 1) top 10 products reordered"
      ]
    },
    {
      "cell_type": "code",
      "execution_count": null,
      "metadata": {
        "id": "-ZOnXRbahWl1",
        "outputId": "188b3cb9-dd2e-4c45-8ad2-60d141f03ab1"
      },
      "outputs": [
        {
          "name": "stdout",
          "output_type": "stream",
          "text": [
            "+----------------------+-------------+\n",
            "|product_name          |num_reordered|\n",
            "+----------------------+-------------+\n",
            "|Banana                |16557        |\n",
            "|Bag of Organic Bananas|13362        |\n",
            "|Organic Strawberries  |8603         |\n",
            "|Organic Baby Spinach  |8055         |\n",
            "|Organic Avocado       |6226         |\n",
            "|Organic Hass Avocado  |6042         |\n",
            "|Large Lemon           |5923         |\n",
            "|Strawberries          |4786         |\n",
            "|Organic Raspberries   |4279         |\n",
            "|Limes                 |4234         |\n",
            "+----------------------+-------------+\n",
            "\n"
          ]
        }
      ],
      "source": [
        "# 3.1 step 1\n",
        "df_op_p = spark.sql('SELECT op.order_id, op.reordered, p.product_id, p.product_name, p.department_id'\n",
        "               ' FROM order_prod op'\n",
        "               ' INNER JOIN products p ON op.product_id = p.product_id') #.show(10, truncate=200)\n",
        "df_op_p.createOrReplaceTempView(\"op_p\")\n",
        "\n",
        "# 3.1 products purchased >= 40 times.\n",
        "df_p_purchased = spark.sql(' select * from'\n",
        "          ' (select distinct product_name, product_id,'\n",
        "          ' count(*) over(partition by product_id) as num_purchased'\n",
        "          ' from op_p) a'\n",
        "          ' where a.num_purchased >= 40')\n",
        "df_p_purchased.createOrReplaceTempView(\"p_purchased\")\n",
        "\n",
        "# 3.1 top 10 reordered products, considering product purchased at least 40 times.\n",
        "spark.sql('select distinct p_purchased.product_name, a.num_reordered from '\n",
        "          '(select product_id, SUM(reordered) AS num_reordered '\n",
        "          ' from op_p'\n",
        "          ' group by product_id) a, p_purchased'\n",
        "          ' where a.product_id = p_purchased.product_id order by 2 desc limit 10').show(truncate=False)"
      ]
    },
    {
      "cell_type": "markdown",
      "metadata": {
        "id": "TZ94-0zPhWl2"
      },
      "source": [
        "### 2)  top 3 most purchased products of each department"
      ]
    },
    {
      "cell_type": "code",
      "execution_count": null,
      "metadata": {
        "id": "wDQvM-89hWl2",
        "outputId": "8881c0b2-3a25-46c4-f035-dcaf9737b139",
        "scrolled": true
      },
      "outputs": [
        {
          "name": "stdout",
          "output_type": "stream",
          "text": [
            "+---------+-----------------------------------------------------+-------------+--------+\n",
            "|prod_rank|product_name                                         |department_id|cnt_prod|\n",
            "+---------+-----------------------------------------------------+-------------+--------+\n",
            "|1        |Sparkling Water Grapefruit                           |7            |3359    |\n",
            "|2        |Spring Water                                         |7            |2225    |\n",
            "|3        |Lime Sparkling Water                                 |7            |1966    |\n",
            "|1        |Organic Black Beans                                  |15           |1576    |\n",
            "|2        |No Salt Added Black Beans                            |15           |1250    |\n",
            "|3        |Organic Garbanzo Beans                               |15           |1141    |\n",
            "|1        |Cotton Swabs                                         |11           |258     |\n",
            "|2        |Lavender Hand Soap                                   |11           |258     |\n",
            "|3        |Lemon Verbena Hand Soap                              |11           |191     |\n",
            "|1        |100% Whole Wheat Bread                               |3            |2298    |\n",
            "|2        |Organic Bread with 21 Whole Grains                   |3            |938     |\n",
            "|3        |Sourdough Bread                                      |3            |738     |\n",
            "|1        |Double Duty Advanced Odor Control Clumping Cat Litter|8            |84      |\n",
            "|2        |24/7 Performance Cat Litter                          |8            |76      |\n",
            "|3        |Instant Action Cat Litter                            |8            |73      |\n",
            "|1        |Organic Whole Milk                                   |16           |4908    |\n",
            "|2        |Organic Half & Half                                  |16           |2646    |\n",
            "|3        |Half & Half                                          |16           |2424    |\n",
            "|1        |Sauvignon Blanc                                      |5            |295     |\n",
            "|2        |Cabernet Sauvignon                                   |5            |237     |\n",
            "|3        |Beer                                                 |5            |224     |\n",
            "|1        |Baby Food Stage 2 Blueberry Pear & Purple Carrot     |18           |310     |\n",
            "|2        |Spinach Peas & Pear Stage 2 Baby Food                |18           |268     |\n",
            "|3        |Gluten Free SpongeBob Spinach Littles                |18           |259     |\n",
            "|1        |100% Recycled Paper Towels                           |17           |1183    |\n",
            "|2        |Sustainably Soft Bath Tissue                         |17           |821     |\n",
            "|3        |Aluminum Foil                                        |17           |407     |\n",
            "|1        |Taco Seasoning                                       |6            |405     |\n",
            "|2        |Organic Sea Salt Roasted Seaweed Snacks              |6            |345     |\n",
            "|3        |New Mexico Taco Skillet Sauce For Chicken            |6            |224     |\n",
            "|1        |Lightly Salted Baked Snap Pea Crisps                 |19           |991     |\n",
            "|2        |Pretzel Crisps Original Deli Style Pretzel Crackers  |19           |753     |\n",
            "|3        |Sea Salt Pita Chips                                  |19           |707     |\n",
            "|1        |Organic Tomato Basil Pasta Sauce                     |9            |772     |\n",
            "|2        |Marinara Sauce                                       |9            |754     |\n",
            "|3        |Basil Pesto                                          |9            |699     |\n",
            "|1        |Blueberries                                          |1            |2323    |\n",
            "|2        |Organic Broccoli Florets                             |1            |1361    |\n",
            "|3        |Organic Whole Strawberries                           |1            |1213    |\n",
            "|1        |Original Hummus                                      |20           |2858    |\n",
            "|2        |Uncured Genoa Salami                                 |20           |1788    |\n",
            "|3        |Organic Extra Firm Tofu                              |20           |1186    |\n",
            "|1        |Dried Mango                                          |10           |446     |\n",
            "|2        |Organic Rolled Oats                                  |10           |259     |\n",
            "|3        |Organic Black Mission Figs                           |10           |125     |\n",
            "|1        |Banana                                               |4            |18726   |\n",
            "|2        |Bag of Organic Bananas                               |4            |15480   |\n",
            "|3        |Organic Strawberries                                 |4            |10894   |\n",
            "|1        |Boneless Skinless Chicken Breasts                    |12           |2088    |\n",
            "|2        |Ground Turkey Breast                                 |12           |958     |\n",
            "|3        |Boneless Skinless Chicken Breast                     |12           |943     |\n",
            "|1        |Extra Virgin Olive Oil                               |13           |2068    |\n",
            "|2        |Creamy Peanut Butter                                 |13           |991     |\n",
            "|3        |Creamy Almond Butter                                 |13           |850     |\n",
            "|1        |Honey Nut Cheerios                                   |14           |1218    |\n",
            "|2        |Organic Old Fashioned Rolled Oats                    |14           |747     |\n",
            "|3        |Raisin Bran Cereal                                   |14           |600     |\n",
            "|1        |Organic Riced Cauliflower                            |21           |823     |\n",
            "|2        |Peanut Butter Ice Cream Cup                          |21           |261     |\n",
            "|3        |Organic Celery Bunch                                 |21           |200     |\n",
            "|1        |Roasted Almond Butter                                |2            |174     |\n",
            "|2        |Light CocoWhip! Coconut Whipped Topping              |2            |86      |\n",
            "|3        |Roasted Unsalted Almonds                             |2            |62      |\n",
            "+---------+-----------------------------------------------------+-------------+--------+\n",
            "\n"
          ]
        }
      ],
      "source": [
        "\n",
        "df_sorted_prod = spark.sql('select product_name, department_id, cnt_prod,'\n",
        "                           ' row_number() over (partition by department_id order by cnt_prod desc) as prod_rank from '\n",
        "                           ' (select distinct department_id, product_name,'\n",
        "                           ' count(product_id) over(partition by department_id, product_id) as cnt_prod'\n",
        "                           ' from op_p) a')\n",
        "df_sorted_prod.createOrReplaceTempView(\"sorted_prod\")\n",
        "spark.sql('select prod_rank, product_name, department_id, cnt_prod from sorted_prod where prod_rank < 4').show(70, truncate=False)"
      ]
    },
    {
      "cell_type": "code",
      "execution_count": null,
      "metadata": {
        "id": "9pS2W9uRhWl2"
      },
      "outputs": [],
      "source": []
    },
    {
      "cell_type": "markdown",
      "metadata": {
        "id": "CDYA3zJNhWl2"
      },
      "source": [
        "### 3) What is the average basket size for each day of the week?"
      ]
    },
    {
      "cell_type": "code",
      "execution_count": null,
      "metadata": {
        "id": "JMj0fvzrhWl2",
        "outputId": "86a00674-0f36-4c1d-b8e3-8a8a4acfa9eb"
      },
      "outputs": [
        {
          "name": "stdout",
          "output_type": "stream",
          "text": [
            "+---------+--------+\n",
            "|order_dow|avg_size|\n",
            "+---------+--------+\n",
            "|        0|    11.8|\n",
            "|        6|   10.97|\n",
            "|        1|   10.47|\n",
            "|        5|   10.16|\n",
            "|        2|    9.96|\n",
            "|        3|    9.84|\n",
            "|        4|    9.74|\n",
            "+---------+--------+\n",
            "\n"
          ]
        }
      ],
      "source": [
        "# dataframe order_prod + orders\n",
        "df_op_o = spark.sql('SELECT op.order_id, op.add_to_cart_order, o.order_dow'\n",
        "               ' FROM order_prod op'\n",
        "               ' INNER JOIN orders o ON op.order_id = o.order_id')\n",
        "df_op_o.createOrReplaceTempView(\"op_o\")\n",
        "\n",
        "\n",
        "# number of orders each day of the week\n",
        "num_orders = spark.sql('select count(*) as num_orders, order_dow from'\n",
        "          ' (select distinct order_id, order_dow from op_o) group by order_dow')\n",
        "#num_orders.show()\n",
        "\n",
        "# basket_size each day\n",
        "basket_sz = spark.sql('select order_dow, count(add_to_cart_order) as basket_size from op_o'\n",
        "          ' group by order_dow')\n",
        "#basket_sz.show()\n",
        "\n",
        "# average bac=sket size, each day of the week\n",
        "result = basket_sz.join(num_orders, basket_sz.order_dow == num_orders.order_dow, 'inner')\\\n",
        ".select(basket_sz.order_dow, f.round(basket_sz.basket_size/num_orders.num_orders, 2).alias('avg_size'))\\\n",
        ".orderBy('avg_size', ascending=False)\n",
        "result.show()"
      ]
    },
    {
      "cell_type": "code",
      "execution_count": null,
      "metadata": {
        "id": "M_Xb8pBYhWl2",
        "outputId": "8c3ee4c9-27fa-482a-f9c9-3d5cccf6d758",
        "scrolled": true
      },
      "outputs": [
        {
          "data": {
            "image/png": "[encoded data removed]",
            "text/plain": [
              "<Figure size 432x288 with 1 Axes>"
            ]
          },
          "metadata": {
            "needs_background": "light"
          },
          "output_type": "display_data"
        }
      ],
      "source": [
        "import pandas as pd\n",
        "\n",
        "df = result.toPandas()\n",
        "_ = df.plot.bar(x='order_dow', y='avg_size')"
      ]
    },
    {
      "cell_type": "markdown",
      "metadata": {
        "id": "LMoLK30G8q3m"
      },
      "source": [
        "### 3.2 Run MBA for the training set\n",
        "\n",
        "Using the orders from the ``order_products__train.csv``, we create a data frame where each row contains the column “transaction” with the list of purchased products. In sequence, run the MBA algorithm for this set of transactions.\n",
        "\n",
        "- We will report the time spent to perform this task."
      ]
    },
    {
      "cell_type": "code",
      "execution_count": null,
      "metadata": {
        "id": "saItRyfZ8q3o",
        "outputId": "73517efe-8bcc-4ccc-c8ba-5a78b6a17b1b"
      },
      "outputs": [
        {
          "name": "stdout",
          "output_type": "stream",
          "text": [
            "Wall time: 17.9 ms\n"
          ]
        }
      ],
      "source": [
        "%%time\n",
        "\"\"\"\n",
        "TODO: create a query to create and sctruct the transactions\n",
        "\"\"\"\n",
        "\n",
        "df32 = spark.sql('SELECT op.order_id, COLLECT_LIST(p.product_name) AS products'\n",
        "               ' FROM orders o '\n",
        "               ' INNER JOIN order_prod op ON op.order_id = o.order_id'\n",
        "               ' INNER JOIN products p    ON op.product_id = p.product_id'\n",
        "               ' GROUP BY op.order_id ORDER BY op.order_id')\n",
        "\n",
        "df32_trans = df32.select(df32.order_id, f.array_join(df32.products, ';').alias(\"transaction\"))\n"
      ]
    },
    {
      "cell_type": "code",
      "execution_count": null,
      "metadata": {
        "id": "yTST3yLwhWl3",
        "outputId": "b0715d91-4fac-4b59-d0e6-579046141f4d"
      },
      "outputs": [
        {
          "name": "stdout",
          "output_type": "stream",
          "text": [
            "+--------+----------------------------------------------------------------------------------------------------+\n",
            "|order_id|                                                                                         transaction|\n",
            "+--------+----------------------------------------------------------------------------------------------------+\n",
            "|       1|Bulgarian Yogurt;Organic 4% Milk Fat Whole Milk Cottage Cheese;Organic Celery Hearts;Cucumber Kir...|\n",
            "|      36|Grated Pecorino Romano Cheese;Spring Water;Organic Half & Half;Super Greens Salad;Cage Free Extra...|\n",
            "+--------+----------------------------------------------------------------------------------------------------+\n",
            "only showing top 2 rows\n",
            "\n"
          ]
        }
      ],
      "source": [
        "df32_trans.show(2, truncate=100)"
      ]
    },
    {
      "cell_type": "markdown",
      "metadata": {
        "id": "11ilr9F7hWl3"
      },
      "source": [
        "### map to pattern 2.1"
      ]
    },
    {
      "cell_type": "code",
      "execution_count": null,
      "metadata": {
        "id": "hcfGqRM4hWl3",
        "outputId": "74b46983-52a8-4829-cdf5-06e4cd079ebe"
      },
      "outputs": [
        {
          "name": "stdout",
          "output_type": "stream",
          "text": [
            "+--------------------------------------------------+-----------+\n",
            "|                                          patterns|occurrences|\n",
            "+--------------------------------------------------+-----------+\n",
            "|                             ('Bulgarian Yogurt',)|          1|\n",
            "|('Organic 4% Milk Fat Whole Milk Cottage Cheese',)|          1|\n",
            "|                        ('Organic Celery Hearts',)|          1|\n",
            "|                               ('Cucumber Kirby',)|          1|\n",
            "|         ('Lightly Smoked Sardines in Olive Oil',)|          1|\n",
            "+--------------------------------------------------+-----------+\n",
            "only showing top 5 rows\n",
            "\n",
            "Wall time: 1.22 s\n"
          ]
        }
      ],
      "source": [
        "%%time\n",
        "\"\"\"\n",
        "TODO: run the MBA algorithm and show the first 5 association rules\n",
        "\"\"\"\n",
        "\n",
        "df32_trans_rdd = df32_trans.rdd\n",
        "patterns_rdd = df32_trans_rdd.flatMap(map_to_patterns)\n",
        "\n",
        "# Output as dataframe\n",
        "patterns_rdd.map(format_tuples).toDF(['patterns', 'occurrences']).show(5, truncate=100)"
      ]
    },
    {
      "cell_type": "markdown",
      "metadata": {
        "id": "wtqSKx8JhWl3"
      },
      "source": [
        "### reduce to pattern 2.2"
      ]
    },
    {
      "cell_type": "code",
      "execution_count": null,
      "metadata": {
        "id": "PPREGJ4MhWl4",
        "outputId": "e7a900fb-6402-44f5-a8be-3baf643e6049"
      },
      "outputs": [
        {
          "name": "stdout",
          "output_type": "stream",
          "text": [
            "+--------------------------------------------------------------------------+--------------------+\n",
            "|                                                                  patterns|combined_occurrences|\n",
            "+--------------------------------------------------------------------------+--------------------+\n",
            "|           ('Spring Water', 'Super Greens Salad', 'Prosciutto, Americano')|                   1|\n",
            "|              ('Organic Raw Unfiltered Apple Cider Vinegar', 'Fresh Dill')|                   1|\n",
            "|                     ('Organic Raspberries', 'Organic Whole Strawberries')|                 123|\n",
            "|('Organic Chocolate Almondmilk Pudding', 'Organic Extra Virgin Oil Olive')|                   1|\n",
            "|                          ('Tomatoes, Crushed, Organic', 'Organic Garlic')|                   2|\n",
            "+--------------------------------------------------------------------------+--------------------+\n",
            "only showing top 5 rows\n",
            "\n",
            "Wall time: 4min 2s\n"
          ]
        }
      ],
      "source": [
        "%%time\n",
        "\"\"\"\n",
        "TODO: run the MBA algorithm and show the first 5 association rules\n",
        "\"\"\"\n",
        "combined_patterns_rdd = patterns_rdd.reduceByKey(reduce_patterns)\n",
        "\n",
        "# Output as dataframe\n",
        "combined_patterns_rdd.map(format_tuples).toDF(['patterns', 'combined_occurrences']).show(5, truncate=100)"
      ]
    },
    {
      "cell_type": "markdown",
      "metadata": {
        "id": "XZrT4vDbhWl4"
      },
      "source": [
        "### map to subpatterns 2.3"
      ]
    },
    {
      "cell_type": "code",
      "execution_count": null,
      "metadata": {
        "id": "vqMfD4zRhWl4",
        "outputId": "2617009a-e916-4a68-a1d8-eea6033b0956"
      },
      "outputs": [
        {
          "name": "stdout",
          "output_type": "stream",
          "text": [
            "+---------------------------------------------------------------+----------------------------+\n",
            "|subpatterns                                                    |rules                       |\n",
            "+---------------------------------------------------------------+----------------------------+\n",
            "|('Spring Water', 'Super Greens Salad', 'Prosciutto, Americano')|(None, 1)                   |\n",
            "|('Super Greens Salad', 'Prosciutto, Americano')                |('Spring Water', 1)         |\n",
            "|('Spring Water', 'Prosciutto, Americano')                      |('Super Greens Salad', 1)   |\n",
            "|('Spring Water', 'Super Greens Salad')                         |('Prosciutto, Americano', 1)|\n",
            "|('Organic Raw Unfiltered Apple Cider Vinegar', 'Fresh Dill')   |(None, 1)                   |\n",
            "+---------------------------------------------------------------+----------------------------+\n",
            "only showing top 5 rows\n",
            "\n",
            "Wall time: 1.82 s\n"
          ]
        }
      ],
      "source": [
        "%%time\n",
        "\"\"\"\n",
        "TODO: run the MBA algorithm and show the first 5 association rules\n",
        "\"\"\"\n",
        "subpatterns_rdd = combined_patterns_rdd.flatMap(map_to_subpatterns)\n",
        "\n",
        "# Output as dataframe\n",
        "subpatterns_rdd.map(format_tuples).toDF(['subpatterns', 'rules']).show(5, truncate=False)"
      ]
    },
    {
      "cell_type": "markdown",
      "metadata": {
        "id": "T0fL8dHBhWl4"
      },
      "source": [
        "### reduce to subpatterns 2.4"
      ]
    },
    {
      "cell_type": "code",
      "execution_count": null,
      "metadata": {
        "id": "3dKjCfi3hWl4",
        "outputId": "bc8d1f7c-0d6b-4a58-db69-467ed2afb5fb"
      },
      "outputs": [
        {
          "name": "stdout",
          "output_type": "stream",
          "text": [
            "+---------------------------------------------------------------+------------------------------------------------------------------------------------------------------------------------+\n",
            "|                                                    subpatterns|                                                                                                          combined_rules|\n",
            "+---------------------------------------------------------------+------------------------------------------------------------------------------------------------------------------------+\n",
            "|('Spring Water', 'Super Greens Salad', 'Prosciutto, Americano')|                                                                                                             [(None, 1)]|\n",
            "|   ('Organic Raw Unfiltered Apple Cider Vinegar', 'Fresh Dill')|[(None, 1), ('Organic Baby Arugula', 1), ('Flat Parsley, Bunch', 1), ('Organic Biologique Limes', 1), ('Bunched Cilan...|\n",
            "+---------------------------------------------------------------+------------------------------------------------------------------------------------------------------------------------+\n",
            "only showing top 2 rows\n",
            "\n",
            "Wall time: 14min 43s\n"
          ]
        }
      ],
      "source": [
        "%%time\n",
        "\"\"\"\n",
        "TODO: run the MBA algorithm and show the first 5 association rules\n",
        "\"\"\"\n",
        "combined_rules = subpatterns_rdd.groupByKey().mapValues(list)  #TODO\n",
        "\n",
        "# Output as dataframe\n",
        "combined_rules.map(format_tuples).toDF(['subpatterns', 'combined_rules']).show(2, truncate=120)"
      ]
    },
    {
      "cell_type": "markdown",
      "metadata": {
        "id": "lTFUi7ychWl4"
      },
      "source": [
        "### map to association rule 2.5"
      ]
    },
    {
      "cell_type": "code",
      "execution_count": null,
      "metadata": {
        "id": "NWTnB54fhWl4",
        "outputId": "6c01f961-627b-47df-c095-10d69111eda8"
      },
      "outputs": [
        {
          "name": "stdout",
          "output_type": "stream",
          "text": [
            "+--------------------------------------------------------------------------+----------------------------------------------------------------------------------------------------+\n",
            "|                                                                  patterns|                                                                                   association_rules|\n",
            "+--------------------------------------------------------------------------+----------------------------------------------------------------------------------------------------+\n",
            "|           ('Spring Water', 'Super Greens Salad', 'Prosciutto, Americano')|                                                                                                  []|\n",
            "|              ('Organic Raw Unfiltered Apple Cider Vinegar', 'Fresh Dill')|[('Organic Baby Arugula', 1.0), ('Flat Parsley, Bunch', 1.0), ('Organic Biologique Limes', 1.0), ...|\n",
            "|                     ('Organic Raspberries', 'Organic Whole Strawberries')|[('Organic Whole Milk', 0.024390243902439025), ('Organic Cotton Balls', 0.008130081300813009), ('...|\n",
            "|('Organic Chocolate Almondmilk Pudding', 'Organic Extra Virgin Oil Olive')|[('Organic Stringles Mozzarella String Cheese', 1.0), ('Tomatoes, Crushed, Organic', 1.0), ('Orga...|\n",
            "|                          ('Tomatoes, Crushed, Organic', 'Organic Garlic')|[('Roasted Turkey', 0.5), ('Honeydew Kombucha Tea', 0.5), ('Organic Ketchup', 0.5), ('Black Beans...|\n",
            "+--------------------------------------------------------------------------+----------------------------------------------------------------------------------------------------+\n",
            "only showing top 5 rows\n",
            "\n",
            "Wall time: 7.75 s\n"
          ]
        }
      ],
      "source": [
        "%%time\n",
        "\"\"\"\n",
        "TODO: run the MBA algorithm and show the first 5 association rules\n",
        "\"\"\"\n",
        "assoc_rules = combined_rules.mapValues(map_to_assoc_rules).mapValues(list) #TODO\n",
        "\n",
        "# Output as dataframe\n",
        "assoc_rules.map(format_tuples).toDF(['patterns', 'association_rules']).show(5, truncate=100)"
      ]
    },
    {
      "cell_type": "markdown",
      "metadata": {
        "id": "_1wd8gH5hWl5"
      },
      "source": [
        "#### Total time: 1.22s + 4 min 2s + 1.82s + 14min 43s + 7.75s ~= 19 min\n"
      ]
    },
    {
      "cell_type": "markdown",
      "metadata": {
        "id": "WyNBcK5f8q3s"
      },
      "source": [
        "### 3.3 Run MBA for the whole dataset\n",
        "\n",
        "As we have noticed, even for a not so large data set (the training file has only 131K orders), the MBA algorithm is computationally expensive. Now, we will repeat the process, but using the Amazon Web Services (AWS) to create a large computer cluster.\n",
        "\n",
        "This time, we will work with the ``order_products__test.csv`` file, which contains more than 3M orders.\n",
        "\n",
        "**EXPECTED OUTPUT**\n",
        "\n",
        "After running the MBA for the larger collection of orders, randomly select ONE product purchased in ``order_products__test`` and print the association rules (product name and association value) of this product, i.e., when the product is alone in the basket. The output should be formatted in a table, where each row containing the information of one associated product.\n",
        "We will:\n",
        "- Print both ID and Name of the random selected product.\n",
        "- Report the execution time."
      ]
    },
    {
      "cell_type": "code",
      "execution_count": null,
      "metadata": {
        "colab": {
          "referenced_widgets": [
            ""
          ]
        },
        "id": "oVsDoSROhWl5",
        "outputId": "601f673c-ae41-4593-e0c7-e7e9f1355223"
      },
      "outputs": [
        {
          "data": {
            "application/vnd.jupyter.widget-view+json": {
              "model_id": "",
              "version_major": 2,
              "version_minor": 0
            },
            "text/plain": [
              "FloatProgress(value=0.0, bar_style='info', description='Progress:', layout=Layout(height='25px', width='50%'),…"
            ]
          },
          "metadata": {},
          "output_type": "display_data"
        },
        {
          "name": "stdout",
          "output_type": "stream",
          "text": [
            "order_products__test.csv\n",
            "+--------+----------+-----------------+---------+\n",
            "|order_id|product_id|add_to_cart_order|reordered|\n",
            "+--------+----------+-----------------+---------+\n",
            "|       4|     46842|                1|        0|\n",
            "|       4|     26434|                2|        1|\n",
            "|       4|     39758|                3|        1|\n",
            "|       4|     27761|                4|        1|\n",
            "|       4|     10054|                5|        1|\n",
            "+--------+----------+-----------------+---------+\n",
            "only showing top 5 rows"
          ]
        }
      ],
      "source": [
        "# load order_products__test.csv from s3. It was implemented for prior. did not change the variable name for test.csv.\n",
        "\n",
        "df_order_prod_prior = spark.read.csv('s3://projectnznz/order_products__test.csv', header=True, sep=',', inferSchema=True)\n",
        "print('order_products__test.csv')\n",
        "df_order_prod_prior.show(5)\n",
        "df_order_prod_prior.createOrReplaceTempView(\"order_prod_prior\") # creates table 'order_prod'"
      ]
    },
    {
      "cell_type": "code",
      "execution_count": null,
      "metadata": {
        "colab": {
          "referenced_widgets": [
            ""
          ]
        },
        "id": "1bNfBp9LhWl5",
        "outputId": "36dcab0f-5129-41e4-886b-5a5f1036ba10"
      },
      "outputs": [
        {
          "data": {
            "application/vnd.jupyter.widget-view+json": {
              "model_id": "",
              "version_major": 2,
              "version_minor": 0
            },
            "text/plain": [
              "FloatProgress(value=0.0, bar_style='info', description='Progress:', layout=Layout(height='25px', width='50%'),…"
            ]
          },
          "metadata": {},
          "output_type": "display_data"
        },
        {
          "name": "stdout",
          "output_type": "stream",
          "text": [
            "orders.csv\n",
            "+--------+-------+--------+------------+---------+-----------------+----------------------+\n",
            "|order_id|user_id|eval_set|order_number|order_dow|order_hour_of_day|days_since_prior_order|\n",
            "+--------+-------+--------+------------+---------+-----------------+----------------------+\n",
            "| 2539329|      1|   prior|           1|        2|                8|                  null|\n",
            "| 2398795|      1|   prior|           2|        3|                7|                  15.0|\n",
            "|  473747|      1|   prior|           3|        3|               12|                  21.0|\n",
            "| 2254736|      1|   prior|           4|        4|                7|                  29.0|\n",
            "|  431534|      1|   prior|           5|        4|               15|                  28.0|\n",
            "+--------+-------+--------+------------+---------+-----------------+----------------------+\n",
            "only showing top 5 rows\n",
            "\n",
            "products.csv\n",
            "+----------+--------------------+--------+-------------+\n",
            "|product_id|        product_name|aisle_id|department_id|\n",
            "+----------+--------------------+--------+-------------+\n",
            "|         1|Chocolate Sandwic...|      61|           19|\n",
            "|         2|    All-Seasons Salt|     104|           13|\n",
            "|         3|Robust Golden Uns...|      94|            7|\n",
            "|         4|Smart Ones Classi...|      38|            1|\n",
            "|         5|Green Chile Anyti...|       5|           13|\n",
            "+----------+--------------------+--------+-------------+\n",
            "only showing top 5 rows"
          ]
        }
      ],
      "source": [
        "# load order, product from s3\n",
        "\n",
        "df_orders = spark.read.csv('s3://projectnznz/orders.csv', header=True, sep=',', inferSchema=True)\n",
        "print('orders.csv')\n",
        "df_orders.show(5)\n",
        "\n",
        "df_products = spark.read.csv('s3://projectnznz/products.csv', header=True, sep=',', inferSchema=True)\n",
        "print('products.csv')\n",
        "df_products.show(5)\n",
        "\n",
        "df_orders.createOrReplaceTempView(\"orders\") # creates table 'orders'\n",
        "df_products.createOrReplaceTempView(\"products\") # creates table 'products'"
      ]
    },
    {
      "cell_type": "code",
      "execution_count": null,
      "metadata": {
        "colab": {
          "referenced_widgets": [
            ""
          ]
        },
        "id": "-Ce_NEhBhWl5",
        "outputId": "f6e15030-ccfb-4199-f328-fc673f43694b"
      },
      "outputs": [
        {
          "data": {
            "application/vnd.jupyter.widget-view+json": {
              "model_id": "",
              "version_major": 2,
              "version_minor": 0
            },
            "text/plain": [
              "FloatProgress(value=0.0, bar_style='info', description='Progress:', layout=Layout(height='25px', width='50%'),…"
            ]
          },
          "metadata": {},
          "output_type": "display_data"
        },
        {
          "name": "stdout",
          "output_type": "stream",
          "text": [
            "Total time: 8.446747779846191 seconds"
          ]
        }
      ],
      "source": [
        "#%%time\n",
        "\"\"\"\n",
        "TODO: create a query to create and sctruct the transactions from the order_products__test.csv file\n",
        "\"\"\"\n",
        "from time import time\n",
        "start = time()\n",
        "\n",
        "df33 = spark.sql('SELECT op.order_id, COLLECT_LIST(p.product_name) AS products'\n",
        "               ' FROM orders o '\n",
        "               ' INNER JOIN order_prod_prior op ON op.order_id = o.order_id'\n",
        "               ' INNER JOIN products p ON op.product_id = p.product_id'\n",
        "               ' GROUP BY op.order_id ORDER BY op.order_id')\n",
        "\n",
        "df33_trans = df33.select(df33.order_id, f.array_join(df33.products, ';').alias(\"transaction\"))\n",
        "\n",
        "df33_trans_rdd = df33_trans.rdd\n",
        "df33_trans_rdd.take(2)\n",
        "\n",
        "print(f\"Total time: {time() - start} seconds\")"
      ]
    },
    {
      "cell_type": "code",
      "execution_count": null,
      "metadata": {
        "colab": {
          "referenced_widgets": [
            ""
          ]
        },
        "id": "gysZAufvhWl5",
        "outputId": "b28ea334-384b-444c-b684-42fc63f8f0fa"
      },
      "outputs": [
        {
          "data": {
            "application/vnd.jupyter.widget-view+json": {
              "model_id": "",
              "version_major": 2,
              "version_minor": 0
            },
            "text/plain": [
              "FloatProgress(value=0.0, bar_style='info', description='Progress:', layout=Layout(height='25px', width='50%'),…"
            ]
          },
          "metadata": {},
          "output_type": "display_data"
        },
        {
          "name": "stdout",
          "output_type": "stream",
          "text": [
            "[Row(order_id=4, transaction=\"Plain Pre-Sliced Bagels;Honey/Lemon Cough Drops;Chewy 25% Low Sugar Chocolate Chip Granola;Oats & Chocolate Chewy Bars;Kellogg's Nutri-Grain Apple Cinnamon Cereal;Nutri-Grain Soft Baked Strawberry Cereal Breakfast Bars;Kellogg's Nutri-Grain Blueberry Cereal;Tiny Twists Pretzels;Traditional Snack Mix;Goldfish Cheddar Baked Snack Crackers;Original Orange Juice;Sugarfree Energy Drink;Energy Drink\"), Row(order_id=5, transaction=\"Bag of Organic Bananas;Just Crisp, Parmesan;Fresh Fruit Salad;Organic Raspberries;2% Reduced Fat Milk;Sensitive Toilet Paper;Natural Artesian Water, Mini & Mobile;Matzos, Thin, Tea;Boneless Skinless Chicken Breast Fillets;Mini Original Babybel Cheese;Macaroni And Cheese;Clementines;Biscuits Orange Pim's;Dairy Milk Fruit & Nut Chocolate Bar;Artichokes;Apricot Preserves;One Ply Choose A Size Big Roll Paper Towel Rolls;Wafer, Chocolate;French Lavender Hand Wash;American Slices Cheese;Everyday  Facial Tissues;Organic Hass Avocado;Spaghetti Pasta;Meyer Lemon;Bag of Organic Lemons;Original Black Box Tablewater Cracker\")]"
          ]
        }
      ],
      "source": [
        "df33_trans_rdd.take(2)"
      ]
    },
    {
      "cell_type": "code",
      "execution_count": null,
      "metadata": {
        "colab": {
          "referenced_widgets": [
            ""
          ]
        },
        "id": "D3bEuAHrhWl6",
        "outputId": "111f97d0-623f-4260-bf64-0533c086908d"
      },
      "outputs": [
        {
          "data": {
            "application/vnd.jupyter.widget-view+json": {
              "model_id": "",
              "version_major": 2,
              "version_minor": 0
            },
            "text/plain": [
              "FloatProgress(value=0.0, bar_style='info', description='Progress:', layout=Layout(height='25px', width='50%'),…"
            ]
          },
          "metadata": {},
          "output_type": "display_data"
        },
        {
          "name": "stdout",
          "output_type": "stream",
          "text": [
            "+-----------------------------------------------------------+----------------------------------------------------------------------------------------------------+\n",
            "|                                                   patterns|                                                                                   association_rules|\n",
            "+-----------------------------------------------------------+----------------------------------------------------------------------------------------------------+\n",
            "|('Organic Whole String Cheese', 'Parmesan Shredded Cheese')|[('Organic Medium Chili', 0.07692307692307693), ('Yummy Bears Organics Multi Vitamin', 0.07692307...|\n",
            "|                         ('Ground Black Silk Dark Coffee',)|[('Pure & Natural Sour Cream', 0.014285714285714285), ('Pure Almond Unsweetened Original Almond M...|\n",
            "|   ('Organic Peeled & Cooked Beets', 'Free & Clear Bleach')|[('Organic Green Seedless Grapes', 1.0), ('Organic Rice Vinegar', 1.0), ('Organic Vanilla Extract...|\n",
            "|('Mango Chunks', 'Exotic Harvest Sea Salt Vegetable Chips')|[('Salt & Pepper Krinkle Chips', 1.0), ('100% Juice Medley Of Fruits', 1.0), ('Original Pure Crea...|\n",
            "|           ('Organic Mixed Vegetables', 'Organic Cucumber')|[('Organic Chopped Spinach', 0.0196078431372549), ('Potato Yukon Gold Organic', 0.019607843137254...|\n",
            "+-----------------------------------------------------------+----------------------------------------------------------------------------------------------------+\n",
            "only showing top 5 rows\n",
            "\n",
            "Total time: 2953.1121792793274 seconds"
          ]
        }
      ],
      "source": [
        "#%%time\n",
        "\"\"\"\n",
        "TODO: run the MBA algorithm and print the requested output\n",
        "\"\"\"\n",
        "from time import time\n",
        "start = time()\n",
        "\n",
        "# map to pattern 2.1\n",
        "patterns_rdd = df33_trans_rdd.flatMap(map_to_patterns)\n",
        "# Output as dataframe\n",
        "#patterns_rdd.map(format_tuples).toDF(['patterns', 'occurrences']).show(5, truncate=False)\n",
        "\n",
        "# reduce to pattern 2.2\n",
        "combined_patterns_rdd = patterns_rdd.reduceByKey(reduce_patterns)\n",
        "# Output as dataframe\n",
        "#combined_patterns_rdd.map(format_tuples).toDF(['patterns', 'combined_occurrences']).show(5, truncate=False)\n",
        "\n",
        "#map to subpatterns 2.3\n",
        "subpatterns_rdd = combined_patterns_rdd.flatMap(map_to_subpatterns)\n",
        "# Output as dataframe\n",
        "#subpatterns_rdd.map(format_tuples).toDF(['subpatterns', 'rules']).show(2, truncate=False)\n",
        "\n",
        "# reduce to subpatterns 2.4\n",
        "combined_rules = subpatterns_rdd.groupByKey().mapValues(list)\n",
        "# Output as dataframe\n",
        "#combined_rules.map(format_tuples).toDF(['subpatterns', 'combined_rules']).show(2, truncate=100)\n",
        "\n",
        "#map to association rule 2.5\n",
        "assoc_rules = combined_rules.mapValues(map_to_assoc_rules).mapValues(list)\n",
        "\n",
        "# Output as dataframe\n",
        "assoc_rules.map(format_tuples).toDF(['patterns', 'association_rules']).show(5, truncate=100)\n",
        "\n",
        "print(f\"Total time: {time() - start} seconds\")"
      ]
    },
    {
      "cell_type": "markdown",
      "metadata": {
        "id": "ZUtSw_lghWl6"
      },
      "source": [
        "### product association\n",
        "Randomly select ONE product purchased in order_products__test and print the association rules (product name and association value) of this product, i.e., when the product is alone in the basket. The output should be formatted in a table, where each row containing the information of one associated product.\n",
        "\n",
        "- Print both ID and Name of the random selected product.\n",
        "- Report the execution time."
      ]
    },
    {
      "cell_type": "code",
      "execution_count": null,
      "metadata": {
        "colab": {
          "referenced_widgets": [
            ""
          ]
        },
        "id": "tqV0ianShWl6",
        "outputId": "b25266e8-ba16-4fcb-87dd-7dcc6b91e6d6"
      },
      "outputs": [
        {
          "data": {
            "application/vnd.jupyter.widget-view+json": {
              "model_id": "",
              "version_major": 2,
              "version_minor": 0
            },
            "text/plain": [
              "FloatProgress(value=0.0, bar_style='info', description='Progress:', layout=Layout(height='25px', width='50%'),…"
            ]
          },
          "metadata": {},
          "output_type": "display_data"
        }
      ],
      "source": [
        "import re\n",
        "\n",
        "# set the selected ONE product (both ID or Name) purchased in order_products__prior,\n",
        "# e.g product = \"Organic Raspberries\" or product = 2\n",
        "\n",
        "#product = 2\n",
        "\n",
        "#\n",
        "def repl(m):\n",
        "    str = m.group(0)\n",
        "    return str.replace(\",\", \";\")\n",
        "\n",
        "\n",
        "def friends(product):\n",
        "    if isinstance(product, int):\n",
        "        pid = product\n",
        "        pname0 = df_products.select('product_name').where(f.col(\"product_id\") == product).take(1)\n",
        "        # pname0: pyspark.sql.types.Row\n",
        "        if len(pname0) == 0:\n",
        "            return \"product not found.\"\n",
        "        else:\n",
        "            pname2 = pname0[0].product_name\n",
        "            pname = \"('\" + pname2 + \"',)\"\n",
        "\n",
        "    if isinstance(product, str):\n",
        "        pname2 = product\n",
        "        pname = \"('\" + product + \"',)\"\n",
        "        pid0 = df_products.select('product_id').where(f.col(\"product_name\") == product).take(1)\n",
        "        if len(pid0) == 0:\n",
        "            return \"product not found.\"\n",
        "        else:\n",
        "            pid = pid0[0].product_id\n",
        "\n",
        "    print(\"Product Name:\\t\", pname2)\n",
        "    print(\"product ID:\\t\", pid)\n",
        "\n",
        "\n",
        "    # for test:\n",
        "    #pname = \"('c',)\"\n",
        "    df_rules = assoc_rules.map(format_tuples).toDF(['patterns', 'association_rules'])\n",
        "    my_prod = df_rules.select(\"patterns\", \"association_rules\").where(f.col(\"patterns\") == pname)\n",
        "    x = my_prod.rdd.map(lambda row : re.sub('\\[|\\]', '', row.association_rules))\n",
        "    association_str = x.take(1)[0]\n",
        "\n",
        "    # for test\n",
        "    #association_str = '(\\'Organic Roma Tomato\\', 0.012285012285012284), (\\'Marcona Almonds\\', 0.002457002457002457), (\\'Organic Unsalted Butter\\', 0.004914004914004914), (\\'English Seedless Cucumber\\', 0.004914004914004914), (\\'Lentils\\', 0.002457002457002457), (\\'Lemongrass Citrus Scent Disinfecting Wipes\\', 0.004914004914004914), (\\'Rosemary & Olive Oil Quinoa Blend\\', 0.004914004914004914), (\\'Soft Pretzel Mini Buns\\', 0.002457002457002457), (\\'Pesto Tortellini  Bowls\\', 0.002457002457002457), (\\'Sugar Free Chocolate Vanilla Swirls Pudding\\', 0.002457002457002457), (\\'Club Soda Lower Sodium\\', 0.002457002457002457), (\\'Chocolate Crepes\\', 0.002457002457002457), (\\'Organic Coconut Oil\\', 0.002457002457002457), (\\'Petite French Baguette\\', 0.002457002457002457), (\\'Salted Butter\\', 0.004914004914004914), (\\'Pickling Cucumber\\', 0.002457002457002457), (\\'Black Cherry Water\\', 0.002457002457002457), (\\'Organic Yellow Onion\\', 0.06388206388206388), (\\'Grands Buttermilk Biscuits\\', 0.002457002457002457), (\\'Special K Strawberry Protein Shake\\', 0.002457002457002457), (\\'Organic Hummus\\', 0.002457002457002457), (\\'Boomchickapop Sea Salt Popcorn\\', 0.004914004914004914), (\\'Gluten Free Breaded Chicken Breast Tenders\\', 0.002457002457002457), (\\'100% Whole Wheat Bread\\', 0.002457002457002457), (\\'Whole Milk Ricotta Cheese\\', 0.012285012285012284), (\\'Fresh Pressed Virgin Coconut Oil\\', 0.004914004914004914), (\\'Cara Cara Navel Orange\\', 0.002457002457002457), (\\'Genuine Brewed Rice Vinegar\\', 0.004914004914004914), (\\'Extra Ginger Brew Jamaican Style Ginger Beer\\', 0.004914004914004914), (\\'100% Recycled Paper Towels\\', 0.004914004914004914), (\\'Shredded Parmesan\\', 0.007371007371007371), (\\'Organic Rooibos Tea\\', 0.004914004914004914), (\\'Organic Lightly Roasted Crunchy Peanut Butter\\', 0.002457002457002457), (\\'Organic Ground Chicken Breast\\', 0.002457002457002457), (\\'Organic English Cucumber\\', 0.002457002457002457), (\\'Belgian Endive\\', 0.002457002457002457), (\\'Ground Turkey Breast\\', 0.007371007371007371), (\\'Organic Russet Potato\\', 0.007371007371007371), (\\'Organic Green Beans\\', 0.004914004914004914), (\\'Original Hummus\\', 0.019656019656019656), (\\'Kosher Reduced Fat Beef Franks\\', 0.002457002457002457), (\\'Medium Household Gloves\\', 0.002457002457002457), (\\'100% Recycled Bathroom Tissue\\', 0.002457002457002457), (\\'Almond Breeze Almond Coconut Milk\\', 0.002457002457002457), (\\'Anaheim Pepper\\', 0.004914004914004914), (\\'Zen Tea\\', 0.004914004914004914), (\\'Organic Seaweed Black Sesame Super Seed Crackers\\', 0.004914004914004914), (\\'Chocolate Lowfat Milk\\', 0.004914004914004914), (\\'Lightly Dried Parsley\\', 0.002457002457002457), (\\'Dark Chocolate Sea Salt Cashews\\', 0.002457002457002457), (\\'Hakata Noodle Ramen\\', 0.002457002457002457), (\\'Cold Brew Coffee Can\\', 0.002457002457002457), (\\'Butter Masala Mild Indian Simmer Sauce\\', 0.002457002457002457), (\\'Original Long Grain Rice\\', 0.002457002457002457), (\\'Grapes Green Seedless\\', 0.002457002457002457), (\\'Nine Grain Sourdough Dough\\', 0.002457002457002457), (\\'Powdered Confectioners Sugar\\', 0.002457002457002457), (\\'Steel Cut Irish Oatmeal\\', 0.002457002457002457), (\\'Apple Cider Vinegar\\', 0.002457002457002457), (\\'Cold Pressed Fuji Apple Juice\\', 0.002457002457002457), (\\'Wild Berry Smoothie\\', 0.002457002457002457), (\\'All Natural Raspberry Licorice\\', 0.002457002457002457), (\\'Green Seedless Grapes\\', 0.002457002457002457), (\\'Saaa-Wheat! Organic Bread\\', 0.002457002457002457), (\\'Freezer Safe Pint Jars Wide Mouth\\', 0.002457002457002457), (\\'Organic Whole Wheat Tortillas\\', 0.002457002457002457), (\\'Truffle Tremor Cheese\\', 0.002457002457002457), (\\'Bear Clover Premium Honey\\', 0.002457002457002457), (\\'Banana, Peach and Mango Fruit Pouch\\', 0.002457002457002457), (\\'100% Pure Corn Starch\\', 0.002457002457002457), (\\'Organic Orzo\\', 0.004914004914004914), (\\'Sourdough Bread\\', 0.004914004914004914), (\\'Organic Balsamic Vinegar\\', 0.002457002457002457), (\\'Old Fashioned Rolled Oats\\', 0.002457002457002457), (\\'Clover Honey, US Grade A\\', 0.002457002457002457), (\\'Real Mayonnaise\\', 0.002457002457002457), (\\'Vegan Hot & Sour Noodle Soup\\', 0.002457002457002457), (\\'Organic Hot House Tomato\\', 0.004914004914004914), (\\'Organic Braeburn Apple\\', 0.002457002457002457), (\\'Jet Puffed Miniature Marshmallows\\', 0.002457002457002457), (\\'Kettle Cooked Jalapeno Potato Chips\\', 0.002457002457002457), (\\'Organic Gluten Free Sea Salt by the Seashore Multigrain Tortilla Chips\\', 0.002457002457002457), (\\'Light & Lean Pasta & Veggie Bowl\\', 0.002457002457002457), (\\'No Pulp Orange Juice\\', 0.002457002457002457), (\\'Stackers Kosher Dill Pickles\\', 0.002457002457002457), (\\'Eggplant\\', 0.002457002457002457), (\\'Organic Unrefined Coconut Oil\\', 0.002457002457002457), (\\'Sea Salt Pita Chips\\', 0.009828009828009828), (\\'Citrus Mandarins Organic\\', 0.002457002457002457), (\\'Pickled Jalapenos\\', 0.002457002457002457), (\\'Sea Salt Caramel Gelato\\', 0.002457002457002457), (\\'Organic Fat Free Refried Pinto Beans\\', 0.002457002457002457), (\\'Organic Fuji Apple\\', 0.0171990171990172), (\\'Large Grapefruit\\', 0.004914004914004914), (\\'Organic Roma Tomato\\', 0.007371007371007371), (\\'Organic White Onions\\', 0.009828009828009828), (\\'Organic Frozen Concentrate Lemonade\\', 0.002457002457002457), (\\'Apple Cinnamon Hot Oatmeal\\', 0.002457002457002457), (\\'Organic Himalayan Pink Popcorn\\', 0.002457002457002457), (\\'Classic Marinara\\', 0.002457002457002457), (\\'Smoked Mozzarella\\', 0.002457002457002457), (\\'Organic Black Beans Ready To Eat In Pouch\\', 0.002457002457002457), (\\'Orange Juice\\', 0.002457002457002457), (\\'Organic Crushed Fire Roasted Tomatoes\\', 0.002457002457002457), (\\'Corn Maize Tortillas\\', 0.002457002457002457), (\\'Organic Tomato Sauce\\', 0.004914004914004914), (\\'Pumpkin Seed Cheddar Crispbreads\\', 0.002457002457002457), (\\'Heirloom Bean Veggie Burgers\\', 0.002457002457002457), (\\'Fresh Pressed Virgin Coconut Oil\\', 0.002457002457002457), (\\'Organic Chopped Garlic\\', 0.002457002457002457), (\\'Lavender Hand Soap\\', 0.002457002457002457), (\\'Dozen Roses\\', 0.002457002457002457), (\\'Sun Blossom Probiotic Kombucha\\', 0.002457002457002457), (\\'Organic Shredded Carrots\\', 0.009828009828009828), (\\'Bartlett Pears\\', 0.004914004914004914), (\\'Black Beans\\', 0.002457002457002457), (\\'Organic Plain Kefir\\', 0.002457002457002457), (\\'Vegan Peanut Butter Chocolate Chip Cookies\\', 0.002457002457002457), (\\'Adult Single Enema\\', 0.002457002457002457), (\\'No Pulp Calcium & Vitamin D Pure Orange Juice\\', 0.002457002457002457), (\\'Organic Free Range Chicken Broth\\', 0.004914004914004914), (\\'Total 0% Cherry Nonfat Yogurt\\', 0.002457002457002457), (\\'Lemon Eucalyptus\\', 0.002457002457002457), (\\'Vine Ripened Golden Berries\\', 0.002457002457002457), (\\'Icelandic Style Fat Free Plain Yogurt\\', 0.002457002457002457), (\\'Vanilla Bean Light Ice Cream\\', 0.002457002457002457), (\\'Organic Spicy Taco Seasoning\\', 0.002457002457002457), (\\'Mint Chip\\', 0.004914004914004914), (\\'Plantain Chips\\', 0.002457002457002457), (\"Hershey\\'s Chocolate Caramel Gourmet Coffee Creamer\", 0.002457002457002457), (\\'100% Florida Orange Juice\\', 0.002457002457002457), (\\'Large Grapefruit\\', 0.004914004914004914), (\\'Shredded Mild Cheddar Cheese\\', 0.004914004914004914), (\\'Total 0% Nonfat Greek Yogurt\\', 0.002457002457002457), (\\'Total 0% Cherry Nonfat Yogurt\\', 0.002457002457002457), (\\'Peanut Butter Ice Cream Cup\\', 0.004914004914004914), (\\'Classic Original Lipbalm\\', 0.002457002457002457), (\\'Organic Red Wine Vineger\\', 0.007371007371007371), (\\'Panda Puffs Peanut Butter Cereal\\', 0.002457002457002457), (\\'Fresh Basil\\', 0.002457002457002457), (\\'100% Whole Wheat Bread\\', 0.012285012285012284), (\\'Flat Fillets of Anchovies\\', 0.002457002457002457), (\\'Organic Smoked Chicken Breast\\', 0.002457002457002457), (\\'Goat Cheese Crumbles\\', 0.007371007371007371), (\\'Potato Puffs with Roasted Garlic and Cracked Black Pepper\\', 0.002457002457002457), (\\'Fresh Dill\\', 0.002457002457002457), (\\'Green Jalapeno Pepper Sauce\\', 0.002457002457002457), (\\'Organic Buckwheat Pancake & Waffle Mix\\', 0.002457002457002457), (\\'Condensed Cream of Potato Soup\\', 0.002457002457002457), (\\'Black Beans No Salt Added\\', 0.002457002457002457), (\\'Feta Cheese In Brine\\', 0.002457002457002457), (\\'Morena Pure Cane Sugar\\', 0.002457002457002457), (\\'Hydrogen Peroxide Topical Solution\\', 0.002457002457002457), (\\'Kosher Half Sour Pickles\\', 0.002457002457002457), (\\'Cake, Lemon\\', 0.002457002457002457), (\\'Lemon Chamomile Wood Cleaner\\', 0.002457002457002457), (\\'ALMONDBREEZE UNSWEETENED\\', 0.007371007371007371), (\\'Organic AppleApple\\', 0.007371007371007371), (\\'Butternut Squash\\', 0.007371007371007371), (\\'No Pulp Calcium & Vitamin D Pure Orange Juice\\', 0.002457002457002457), (\\'Organic Uncured Sliced Black Forest Ham\\', 0.004914004914004914), (\\'Big Rolls Pick A Size Paper Towels With Thirst Pockets\\', 0.002457002457002457), (\\'Brussels Sprouts\\', 0.004914004914004914), (\\'Orzo, No. 65\\', 0.002457002457002457), (\\'Peanut Butter Ice Cream Cup\\', 0.007371007371007371), (\\'Sensations Lemon and Pepper Seasoned Tuna Medley with Crackers\\', 0.002457002457002457), (\\'Sweet Greens and Lemon Vegetable and Fruit Juice Blend\\', 0.002457002457002457), (\\'Wild Blend Rice\\', 0.002457002457002457), (\\'Organic Red Lentils\\', 0.004914004914004914), (\\'Probiotic Green Coconut Water\\', 0.002457002457002457), (\\'Triple Berry Blend\\', 0.002457002457002457), (\\'Red Leaf Lettuce\\', 0.002457002457002457), (\\'Natural Choice Original Uncured Bacon\\', 0.002457002457002457), (\\'Ginger & Sesame Salad Dressing\\', 0.002457002457002457), (\\'Triple Creme Brie\\', 0.002457002457002457), (\\'Double Green Matcha Tea Bags\\', 0.002457002457002457), (\\'Mediterranean Mint Gelato\\', 0.002457002457002457), (\\'Boomchickapop Sea Salt Popcorn\\', 0.002457002457002457), (\\'Baby Sugar Snap Peas\\', 0.002457002457002457), (\\'Just Cranberry Unsweetened Juice\\', 0.002457002457002457), (\\'Gluten Free Blueberry Muffins\\', 0.002457002457002457), (\\'Organic Florets Broccoli\\', 0.002457002457002457), (\\'Pizza Bagels\\', 0.002457002457002457), (\\'Milk Chocolate Almond Bar\\', 0.002457002457002457), (\\'Multi-Seed Original Crackers\\', 0.002457002457002457), (\\'Organic Quinoa Crispbread\\', 0.002457002457002457), (\\'Organic Gelatinized Maca Powder\\', 0.002457002457002457), (\\'Traditional Favorites Four Cheese Pasta Sauce\\', 0.002457002457002457), (\\'Fresh Goat Cheese Classic\\', 0.002457002457002457), (\\'Organic Mixed Baby Kale Salad\\', 0.002457002457002457), (\\'Chicken Taquitos\\', 0.007371007371007371), (\\'Whole Grain Oatmeal Bread\\', 0.002457002457002457), (\\'Dairy Free Plain Cream Cheese Style Spread\\', 0.002457002457002457), (\\'Organic Grade A Large Brown Eggs\\', 0.007371007371007371), (\\'Banana\\', 0.09336609336609336), (\\'Uncured Slow Cooked Ham\\', 0.002457002457002457), (\\'Organic Navel Orange\\', 0.014742014742014743), (\\'Original Potato Chips\\', 0.002457002457002457), (\\'Tomatoes, Whole Peeled\\', 0.002457002457002457), (\\'Parsley, Italian (Flat), New England Grown\\', 0.002457002457002457), (\\'Organic Kale Pesto Hummus\\', 0.002457002457002457), (\\'100 Calorie  Per Bag Popcorn\\', 0.002457002457002457), (\\'Vanilla Frozen Non-Dairy Dessert Bites\\', 0.002457002457002457), (\\'Hash Browns Root Vegetable\\', 0.002457002457002457), (\\'Meyer Lemon Everyone Hand Soap\\', 0.002457002457002457), (\\'Organic Deep Dark Sea Salt Chocolate\\', 0.004914004914004914), (\\'EF California White Basmati Eco-Farmed 2 lb Rice\\', 0.002457002457002457), (\\'Ground Buffalo\\', 0.002457002457002457), (\"Sesame Street Big Bird\\'s 100% Apple Juice\", 0.002457002457002457), (\\'Vegan Aged White Cheddar  Popcorn\\', 0.002457002457002457), (\\'Ccnut Raw Cocoaminos\\', 0.004914004914004914), (\\'Sourdough Bread\\', 0.002457002457002457), (\\'Strawberry Streusel Bars\\', 0.002457002457002457), (\\'Chocolate Strong Dark\\', 0.002457002457002457), (\\'Organic Black Beans\\', 0.014742014742014743), (\\'The Peruvian Burrito\\', 0.002457002457002457), (\\'Organic Reduced Fat Milk\\', 0.002457002457002457), (\\'Bai Bubbles Peru Pineapple\\', 0.002457002457002457), (\\'Medium Spicy Kimchi\\', 0.004914004914004914), (\\'Organic Campari Cocktail Tomatoes\\', 0.002457002457002457), (\\'Whole Kernel Corn No Salt Added\\', 0.002457002457002457), (\\'Organic Low Sodium Chicken Broth\\', 0.007371007371007371), (\\'Annie Peely Fruit 4.5 Z\\', 0.002457002457002457), (\\'Cran-Raspberry Flavored Sparkling Water\\', 0.002457002457002457), (\\'Walnut Halves & Pieces\\', 0.002457002457002457), (\\'Cajun-Style Andouille Chicken Sausage\\', 0.002457002457002457), (\\'Organic Red Bell Pepper\\', 0.019656019656019656), (\\'Chard Basil Apple Romaine Celery Cucumber Collards Lemon\\', 0.002457002457002457), (\\'Organic Strawberries\\', 0.044226044226044224), (\\'Natural Chicken & Maple Breakfast Sausage Patty\\', 0.002457002457002457), (\\'Sharp Cheddar Cheese\\', 0.002457002457002457), (\\'4% Milkfat Large Curd Cottage Cheese\\', 0.002457002457002457), (\\'Organic Apple Cider Vinegar Drink, Pomegranate & Goji Berry\\', 0.002457002457002457), (\\'Strawberries\\', 0.0171990171990172), (\\'Creamy Wildflower Honey\\', 0.002457002457002457), (\\'Reduced Fat 2% Milk\\', 0.002457002457002457), (\\'Lime Sparkling Water\\', 0.004914004914004914), (\\'Cocoa Powder\\', 0.002457002457002457), (\\'Saltine Crackers\\', 0.002457002457002457), (\\'Mascarpone\\', 0.002457002457002457), (\\'Organic Celery\\', 0.004914004914004914), (\\'Lime\\', 0.002457002457002457), (\\'Organic Plain Unsweetened Nondairy Cashew Yogurt\\', 0.002457002457002457), (\\'Crunchy Kale, Naked\\', 0.002457002457002457), (\\'New York Cheddar Potato Chips\\', 0.002457002457002457), (\\'Granny Smith Apples\\', 0.014742014742014743), (\\'13 Gal with Drawstring Closure White Tall Kitchen Bags\\', 0.002457002457002457), (\\'Organic Nonfat Greek Yogurt With Peaches\\', 0.002457002457002457), (\\'Sweet Potato Yam\\', 0.004914004914004914), (\\'Lemonade With Tea\\', 0.002457002457002457), (\\'Smoked Turkey Breast Slices\\', 0.004914004914004914), (\\'\"Organic Whole Wheat Pie 9\"\" Shells 2 ct\"\\', 0.004914004914004914), (\\'Meyer Lemons\\', 0.002457002457002457), (\\'Organic Flax Plus Multibran Flakes\\', 0.004914004914004914), (\\'Organic Peanut Butter Granola\\', 0.002457002457002457), (\\'Organic Red Lentils\\', 0.004914004914004914), (\\'Wild Chanterelle Mushroom Ravioli\\', 0.002457002457002457), (\\'Montauk Soft Baked Milk Chocolate Cookies\\', 0.002457002457002457), (\\'Organic Sea Salt Roasted Seaweed Snacks\\', 0.002457002457002457), (\\'Mayonnaise, Chipotle\\', 0.002457002457002457), (\\'Organic Chopped Spinach\\', 0.007371007371007371), (\\'Bay Leaves\\', 0.002457002457002457), (\\'Enlightened Organic Raw Kombucha\\', 0.002457002457002457), (\\'100% Pure Cedarwood Essential Oil\\', 0.002457002457002457), (\\'Sliced Black Olives\\', 0.002457002457002457), (\\'Organic Shredded Unsweetened Coconut\\', 0.002457002457002457), (\\'Crackers Harvest Whole Wheat\\', 0.002457002457002457), (\\'Chili Cheese Flavored Corn Chips\\', 0.002457002457002457), (\\'Sesame Seed\\', 0.002457002457002457), (\\'Nutritional Yeast Seasoning\\', 0.004914004914004914), (\\'Sauvignon Blanc\\', 0.002457002457002457), (\\'Traditional Favorites Tomato & Basil Pasta Sauce\\', 0.004914004914004914), (\\'Ice Cubes\\', 0.002457002457002457), (\\'Non Fat Raspberry Yogurt\\', 0.004914004914004914), (\\'Organic Romaine Leaf\\', 0.007371007371007371), (\\'Nutritional Yeast Seasoning\\', 0.004914004914004914), (\\'Tuna In Olive Oil\\', 0.002457002457002457), (\\'Sriracha Hot Chili Sauce\\', 0.002457002457002457), (\\'Herbal Tea, Organic, Turmeric Ginger, Caffeine-Free, Bags\\', 0.002457002457002457), (\\'Aged White Wine Vinegar\\', 0.002457002457002457), (\\'Organic Lemon\\', 0.04176904176904177), (\\'Yoghurt Blueberry\\', 0.002457002457002457), (\\'Organic Reduced Fat Milk\\', 0.004914004914004914), (\\'Organic Extra Large Omega 3 Grade AA Eggs\\', 0.002457002457002457), (\\'Unsweetened Almondmilk\\', 0.022113022113022112), (\\'Organic Sea Salt Flax Crackers\\', 0.002457002457002457), (\\'Organic Balsamic Vinegar Of Modena\\', 0.004914004914004914), (\\'Gluten Free Homestyle Hot Oatmeal\\', 0.002457002457002457), (\\'Natural Artesian Water, Mini & Mobile\\', 0.002457002457002457), (\\'Tomato Sauce\\', 0.002457002457002457), (\\'Organic Soft Wheat Bread\\', 0.002457002457002457), (\\'Toffee & Sea Salt Milk Chocolate Bar\\', 0.002457002457002457), (\\'Organic Ground Cumin\\', 0.002457002457002457), (\\'Angel Hair Coleslaw Shredded Cabbage\\', 0.002457002457002457), (\\'Fresh Dill\\', 0.002457002457002457), (\\'Flaked Coconut Unsweetened\\', 0.004914004914004914), (\\'Original Cooking Spray\\', 0.002457002457002457), (\\'Organic Low Sodium Vegetable Broth\\', 0.009828009828009828), (\\'Peanut Butter Dark Chocolate + Protein Bar\\', 0.002457002457002457), (\\'Mini Babybel Light Semisoft Edam Cheeses\\', 0.002457002457002457), (\\'All Natural No Stir Creamy Almond Butter\\', 0.002457002457002457), (\\'Cheese, Goat Milk, Purple Haze\\', 0.002457002457002457), (\\'Conditioner, Moisturizing, 84% Aloe Vera, for Dry Hair\\', 0.002457002457002457), (\\'Uncured Beef Hot Dog\\', 0.002457002457002457), (\\'Organic Honey\\', 0.004914004914004914), (\\'Lightly Salted Baked Snap Pea Crisps\\', 0.007371007371007371), (\\'No Stick Baking Spray\\', 0.002457002457002457), (\\'Organic Garnet Sweet Potato (Yam)\\', 0.012285012285012284), (\\'Selects Smoked Uncured Bacon\\', 0.002457002457002457), (\\'8 Sesame Seed Hamburger Buns\\', 0.002457002457002457), (\\'Soup, Creamy, Portobello Mushroom\\', 0.002457002457002457), (\\'Organic Unsweetened Dark Chocolate Baking Chips\\', 0.002457002457002457), (\\'Power Smile Toothpaste 3oz\\', 0.002457002457002457), (\\'Organic Half & Half\\', 0.009828009828009828), (\\'Medium Cheddar Cheese Block\\', 0.002457002457002457), (\\'Unsweetened Coconut Milk Beverage\\', 0.004914004914004914), (\\'Chicken Enchilada Bowl\\', 0.002457002457002457), (\\'Chicken Taquitos\\', 0.002457002457002457), (\\'Organic Vegetable Broth\\', 0.004914004914004914), (\\'Pineapple Chunks\\', 0.009828009828009828), (\\'Bananas\\', 0.007371007371007371), (\\'White Corn\\', 0.002457002457002457), (\\'Red Vine Tomato\\', 0.014742014742014743), (\\'Original Hummus\\', 0.019656019656019656), (\\'Organic Cilantro\\', 0.02457002457002457), (\\'Ne Chevre Cashew Cheeze Pure\\', 0.002457002457002457), (\\'Snak-Saks Crackers\\', 0.002457002457002457), (\\'Family Recipe Italian Dressing\\', 0.002457002457002457), (\\'Sweet Peas\\', 0.002457002457002457), (\\'Organic Psyllium Husk Powder\\', 0.002457002457002457), (\\'Sliced Beets No Salt Added\\', 0.002457002457002457), (\\'Shredded Mozzarella\\', 0.007371007371007371), (\\'Unsalted Butter\\', 0.002457002457002457), (\\'Spinach\\', 0.002457002457002457), (\\'Organic Greek Whole Milk Blended Strawberry Yogurt\\', 0.004914004914004914), (\\'Natural Wild Caught Brisling Sardines in Extra Virgin Olive Oil\\', 0.002457002457002457), (\\'Mint Chocolate Chip\\', 0.002457002457002457), (\\'Hass Avocados\\', 0.004914004914004914), (\\'Pure Dark Brown Cane Sugar\\', 0.009828009828009828), (\\'Mozzarella Cheese\\', 0.002457002457002457), (\\'Fresh CA Grown Eggs\\', 0.002457002457002457), (\\'Organic Green Seedless Grapes\\', 0.004914004914004914), (\\'Earl Grey Decaffeinated Black Tea\\', 0.002457002457002457), (\\'Delicate Care Scrub Sponges - 3 CT\\', 0.002457002457002457), (\\'Grilled Seafood Feast in Gravy Cat Food\\', 0.002457002457002457), (\\'Organic Lemon\\', 0.06142506142506143), (\\'Go Big Strawberry/Mixed Berry Low Fat Yogurt\\', 0.002457002457002457), (\\'Sparkling Natural Mineral Water\\', 0.009828009828009828), (\\'Bakery Classics 100% Whole Wheat Hamburger Buns\\', 0.002457002457002457), (\\'Fat Free Strawberry Yogurt\\', 0.007371007371007371), (\\'Cold Brew Coffee Original Kona Blend\\', 0.002457002457002457), (\\'Natural Black Cherry Gels Gelatin Free Snacks\\', 0.002457002457002457), (\\'Low Fat Kefir Cultured Milk Smoothie Lowfat Probiotic Blueberry\\', 0.007371007371007371), (\\'Sweet Potato (Yam)\\', 0.002457002457002457), (\\'Strawberry Ice Cream\\', 0.004914004914004914), (\\'Organic Grated Ginger\\', 0.004914004914004914), (\\'Organic Broccoli\\', 0.004914004914004914), (\\'Total 2% Lowfat Plain Greek Yogurt\\', 0.007371007371007371), (\\'Butternut Squash\\', 0.004914004914004914), (\\'1% Low Fat Milk\\', 0.002457002457002457), (\\'Organic Avocado\\', 0.05896805896805897), (\\'Acorn Squash\\', 0.002457002457002457), (\\'Extra Dark Chocolate Baking Chips\\', 0.002457002457002457), (\\'Natural Cane Turbinado Sugar\\', 0.004914004914004914), (\\'Ezekiel 4:9 Flax Sprouted Grain Bread\\', 0.002457002457002457), (\\'Original Cooking Spray\\', 0.002457002457002457), (\\'Ground Cayenne Red Pepper\\', 0.002457002457002457), (\\'Pinot Noir Sonoma Coast\\', 0.002457002457002457), (\\'Organic Whole Berry Cranberry Sauce\\', 0.002457002457002457), (\\'100% Pure Cedarwood Essential Oil\\', 0.002457002457002457), (\\'Gluten Free Vanilla Creme Cookies\\', 0.002457002457002457), (\\'Lunchable Extra Cheesy Pizza\\', 0.002457002457002457), (\\'Organic Whole Chocolate Milk\\', 0.002457002457002457), (\"Fisherman\\'s Wharf Seafood Seasoning\", 0.002457002457002457), (\\'Organic Baby Romaine Lettuce\\', 0.004914004914004914), (\\'Gochujang Fermented Garlic Chile Paste\\', 0.002457002457002457), (\\'Poblano Pepper\\', 0.004914004914004914), (\\'Organic Stringles Mozzarella String Cheese\\', 0.002457002457002457), (\\'Wild Albacore Tuna in Extra Virgin Olive Oil\\', 0.002457002457002457), (\\'Alaskan Salmon Burgers\\', 0.002457002457002457), (\\'California Veggie Burgers - 4 CT\\', 0.002457002457002457), (\\'Lemon Cake Ice Cream\\', 0.002457002457002457), (\\'Sausage, Chorizo\\', 0.002457002457002457), (\\'Quart Storage Bags\\', 0.002457002457002457), (\\'Apple Cider Vinegar\\', 0.002457002457002457), (\\'Sweet Potato (Yam)\\', 0.002457002457002457), (\\'Organic Wheat Grass\\', 0.002457002457002457), (\\'Salt-Free Blend Herbs De Provence\\', 0.002457002457002457), (\\'Pizza Roasted Vegetable No Cheese\\', 0.002457002457002457), (\\'Large Greenhouse Tomato\\', 0.004914004914004914), (\\'Organic Apple Cider Vinegar All Natural Drink Apple Cinnamon\\', 0.004914004914004914), (\\'Extra Long Grain Enriched Rice\\', 0.002457002457002457), (\\'Sea Salt Caramel Gelato\\', 0.002457002457002457), (\\'Almond Milk Hazelnut Creamer\\', 0.002457002457002457), (\\'Taco Spices and Seasonings\\', 0.002457002457002457), (\\'Organic Guacamole\\', 0.002457002457002457), (\\'Organic Fettuccine\\', 0.002457002457002457), (\\'Organic Crushed Tomatoes with Basil\\', 0.002457002457002457), (\\'Organic Go Go Apple Peach Applesauce\\', 0.002457002457002457), (\\'Organic Cream Cheese Bar\\', 0.004914004914004914), (\\'Natural Artesian Water\\', 0.004914004914004914), (\\'Freezer Bag Gallon\\', 0.002457002457002457), (\\'Chocolate Peanut Butter Cup Gelato\\', 0.004914004914004914), (\\'Uncured Slow Cooked Ham\\', 0.004914004914004914), (\\'Mulberry Berries\\', 0.002457002457002457), (\\'Reclosable Sandwich Bags\\', 0.002457002457002457), (\\'Organic Classic Sea Salt  Oven Crinkles Fries\\', 0.002457002457002457), (\\'Guava Nectar\\', 0.002457002457002457), (\\'ZBar Organic Chocolate Brownie Energy Snack\\', 0.002457002457002457), (\\'Natural Artisan Water\\', 0.007371007371007371), (\\'Potato Hot Dog Buns\\', 0.002457002457002457), (\\'Low Fat Vanilla Yogurt\\', 0.002457002457002457), (\\'Chicken & Maple Breakfast Sausage\\', 0.009828009828009828), (\\'Olives, Spanish, Manzanilla\\', 0.002457002457002457), (\\'Hazelnut Bromstad Design Liquid Coffee Creamer\\', 0.002457002457002457), (\\'Evaporated Milk\\', 0.002457002457002457), (\\'Non-Fat Vanilla Blended Greek Yogurt\\', 0.002457002457002457), (\\'Bunched Cilantro\\', 0.022113022113022112), (\\'Tzatziki\\', 0.002457002457002457), (\\'Fresh Daikon\\', 0.002457002457002457), (\\'Organic Unsweetened Original Non Dairy Almond Beverage\\', 0.002457002457002457), (\\'Coffee Cold-Brew Espresso\\', 0.002457002457002457), (\\'Gluten Free Organic Peanut Butter & Chocolate Cereal\\', 0.002457002457002457), (\\'Poppy Seed\\', 0.002457002457002457), (\\'Organic Celery Hearts\\', 0.012285012285012284), (\\'Sweet Chilli Sauce\\', 0.002457002457002457), (\\'Sprouted Organic Cinnamon Raisin English Muffins\\', 0.002457002457002457), (\\'All American Classic Made with Non-GMO Soy Veggie Burgers\\', 0.002457002457002457), (\\'Pure Aloe Cold Pressed With Lemon\\', 0.002457002457002457), (\\'Organic Frosted Flakes Cereal\\', 0.002457002457002457), (\\'Large Pasteurized Eggs\\', 0.002457002457002457), (\\'CleanCare 1-Ply Double Rolls Toilet Paper\\', 0.002457002457002457), (\\'Organic Fire Roasted Red Pepper Dinner Sausage\\', 0.002457002457002457), (\\'Oats & Honey Gluten Free Granola\\', 0.002457002457002457), (\\'Organic Cappuccino Protein Shake\\', 0.002457002457002457), (\\'Chicken & Apple Smoked Chicken Sausage\\', 0.002457002457002457), (\\'Yogurt Pretzels\\', 0.002457002457002457), (\\'Organic Peanut Butter Granola\\', 0.002457002457002457), (\\'Meyer Lemon\\', 0.002457002457002457), (\\'Organic Raw Multigreen Kobmbucha\\', 0.002457002457002457), (\\'Organic Cannellini Beans\\', 0.004914004914004914), (\\'100% Natural Sponge Cloths\\', 0.002457002457002457), (\\'Gourmet Delicate Avocado Oil\\', 0.002457002457002457), (\\'Refresh Herbal Tea\\', 0.002457002457002457), (\\'Gluten Free Plain Tortilla\\', 0.002457002457002457), (\\'Sprouted Burger Buns\\', 0.002457002457002457), (\\'2-Ply 100% Recycled White Facial Tissues\\', 0.002457002457002457), (\\'Ginger Tea\\', 0.004914004914004914), (\\'Organic Cottage Cheese\\', 0.002457002457002457), (\\'Organic Diced Tomatoes\\', 0.004914004914004914), (\\'Almondmilk Creamer, Vanilla\\', 0.004914004914004914), (\\'Organic Creamy Raw Almond Butter\\', 0.004914004914004914), (\\'Natural Chicken & Sage Breakfast Sausage\\', 0.009828009828009828), (\\'Banana\\', 0.03194103194103194), (\\'White Rosemary Scent Natural Surface Cleaner\\', 0.002457002457002457), (\\'Sauvignon\\', 0.002457002457002457), (\\'Crackers, Baked, Crispy Sea Salt\\', 0.002457002457002457), (\\'Organic Sour Cream\\', 0.012285012285012284), (\\'Organic Celery Bunch\\', 0.004914004914004914), (\\'Organic Whole Strawberries\\', 0.012285012285012284), (\\'Bunched Cilantro\\', 0.029484029484029485), (\\'Organic Yellow Onion\\', 0.036855036855036855), (\\'Organic Cream of Mushroom Condensed Soup\\', 0.002457002457002457), (\\'Aged White Wine Vinegar\\', 0.002457002457002457), (\\'Cantaloupe\\', 0.009828009828009828), (\\'Red Bell Peppers\\', 0.002457002457002457), (\\'Organic Muenster Cheese Slices\\', 0.002457002457002457), (\\'Organic Strawberries\\', 0.056511056511056514), (\\'Organic Cultured Sour Cream\\', 0.002457002457002457), (\\'Savoy Cabbage\\', 0.002457002457002457), (\\'Authentic French Brioche Hamburger Buns\\', 0.002457002457002457), (\\'Organic Lightly Salted Brown Rice Cakes\\', 0.002457002457002457), (\\'Aged White Cheddar Popcorn\\', 0.002457002457002457), (\\'Dha Omega 3 Reduced Fat 2% Milk\\', 0.002457002457002457), (\\'Baby Persian Cucumbers\\', 0.004914004914004914), (\\'Vanilla Coffee Concentrate\\', 0.002457002457002457), (\\'Vitamin D Milk\\', 0.002457002457002457), (\\'Bolani Spinach Filled Flatbread\\', 0.002457002457002457), (\\'Plain Greek Yogurt\\', 0.002457002457002457), (\\'Light and Lean Quinoa Black Beans with Butternut Squash and Chard\\', 0.002457002457002457), (\\'Uncured Hickory Smoked Sunday Bacon\\', 0.004914004914004914), (\\'Smoked Turkey Breast\\', 0.004914004914004914), (\\'Plantain Chips\\', 0.002457002457002457), (\\'Organic Cannellini Beans\\', 0.002457002457002457), (\\'Salted Butter\\', 0.009828009828009828), (\\'Good Belly Probiotics Juice Drink Blueberry Acai Flavor\\', 0.002457002457002457), (\\'Organic Baby Spinach Salad\\', 0.002457002457002457), (\\'Vanilla Frozen Yogurt\\', 0.002457002457002457), (\\'Jalapeno Cilantro Salsa\\', 0.002457002457002457), (\\'Grapes Green Seedless\\', 0.002457002457002457), (\\'Gluten Free Inca Red\\', 0.002457002457002457), (\\'Protein Bar, Chocolate Pretzel\\', 0.002457002457002457), (\\'Juice, Raw & Cold-Pressed, Purity\\', 0.002457002457002457), (\\'Applewood Smoked Bacon\\', 0.004914004914004914), (\\'California Veggie Burgers - 4 CT\\', 0.002457002457002457), (\\'Truffle Popcorn\\', 0.002457002457002457), (\\'Swedish Style Non-Fat Drinkable Yogurt Plain\\', 0.002457002457002457), (\\'Old Fashioned Kettle Corn Popcorn\\', 0.002457002457002457), (\\'Chocolate Chip Cookies\\', 0.004914004914004914), (\\'Low Sodium 100% Vegetable Juice\\', 0.002457002457002457), (\\'Organic Chopped Garlic\\', 0.007371007371007371), (\\'All Purpose Crushed Tomatoes\\', 0.004914004914004914), (\\'Pure Coconut Water\\', 0.002457002457002457), (\\'Country Wheat Bread\\', 0.002457002457002457), (\\'Leek\\', 0.002457002457002457), (\\'Pure Water\\', 0.002457002457002457), (\\'Refresh Herbal Tea\\', 0.002457002457002457), (\\'Organic Baby Rainbow Carrots\\', 0.004914004914004914), (\\'Diet Ginger Ale All Natural Soda\\', 0.002457002457002457), (\\'Organic Large Green Asparagus\\', 0.007371007371007371), (\\'Italian Castelvetrano Whole Green Olives\\', 0.002457002457002457), (\\'Gluten Free Blueberry Waffles\\', 0.002457002457002457), (\\'Cotija\\', 0.002457002457002457), (\\'Green Tea With Ginseng and Honey\\', 0.004914004914004914), (\\'Shredded Mozzarella\\', 0.002457002457002457), (\\'Organic Sweet Pepper Medley\\', 0.002457002457002457), (\\'Ground Nutmeg\\', 0.002457002457002457), (\\'Pork Back Ribs\\', 0.002457002457002457), (\\'Vaporizing Decongestant Vicks VapoRub Cough Suppressant Topical Analgesic Ointment 3.53 oz Respiratory Care\\', 0.002457002457002457), (\\'Wheat Chex Cereal\\', 0.002457002457002457), (\\'Organic Romaine Lettuce\\', 0.004914004914004914), (\\'Sour Cream & Onion Potato Chips\\', 0.004914004914004914), (\\'Original Kombucha\\', 0.002457002457002457), (\\'Basil Pesto\\', 0.002457002457002457), (\\'Paprika\\', 0.007371007371007371), (\\'Fresh European Style Baby Spinach\\', 0.002457002457002457), (\\'Hot (101305, 101352) Italian Sausage\\', 0.002457002457002457), (\\'Organic Raw Kombucha Gingerade\\', 0.004914004914004914), (\\'Dark Chocolate Morsels\\', 0.002457002457002457), (\\'Caster Sugar\\', 0.002457002457002457), (\\'Organic Mixed Baby Kale Salad\\', 0.002457002457002457), (\\'Organic Crushed Fire Roasted Tomatoes\\', 0.004914004914004914), (\\'Organic Cayenne Pepper\\', 0.002457002457002457), (\\'Red Bell Peppers\\', 0.002457002457002457), (\\'Rosewater\\', 0.002457002457002457), (\\'Organic Maple Syrup\\', 0.002457002457002457), (\\'Healthy Grains Low Fat Banana Nut Clusters\\', 0.002457002457002457), (\\'Organic Hot Jalapeno Nacho Slices\\', 0.002457002457002457), (\\'Peanut Butter Creamy With Salt\\', 0.002457002457002457)'\n",
        "\n",
        "    if len(association_str) != 0:\n",
        "\n",
        "        str0 = re.sub('\\).\\s\\(', repl, association_str)\n",
        "        association_lst = str0.split(\";\")\n",
        "\n",
        "        asso_list_pairs = []\n",
        "        for i in association_lst:\n",
        "            score = re.search(r\"(\\d+.\\d+\\))\", i).group(0)\n",
        "            prod_name = i.replace(score, \"\")\n",
        "            score = re.sub('\\(|\\)', '', score)\n",
        "            prod_name = re.sub('\\(|\\)', '', prod_name)\n",
        "            asso_list_pairs.append((prod_name, score))\n",
        "\n",
        "        result_cols = [\"product_name\", \"confidence \"]\n",
        "        df_result = spark.createDataFrame(data=asso_list_pairs, schema = result_cols)\n",
        "        df_result.show(100, truncate=False)\n",
        "    else:\n",
        "        print(\"No associated product.\")"
      ]
    },
    {
      "cell_type": "code",
      "execution_count": null,
      "metadata": {
        "colab": {
          "referenced_widgets": [
            ""
          ]
        },
        "id": "frY4ObOnhWl7",
        "outputId": "767eef91-7268-4b28-c3ff-736d8566ff4b"
      },
      "outputs": [
        {
          "data": {
            "application/vnd.jupyter.widget-view+json": {
              "model_id": "",
              "version_major": 2,
              "version_minor": 0
            },
            "text/plain": [
              "FloatProgress(value=0.0, bar_style='info', description='Progress:', layout=Layout(height='25px', width='50%'),…"
            ]
          },
          "metadata": {},
          "output_type": "display_data"
        },
        {
          "name": "stdout",
          "output_type": "stream",
          "text": [
            "Product Name:\t Peach Mango Juice\n",
            "product ID:\t 11\n",
            "+----------------------------------------------------------------------------------+-------------------+\n",
            "|product_name                                                                      |confidence         |\n",
            "+----------------------------------------------------------------------------------+-------------------+\n",
            "|'Medium Roast Coffee',                                                            |0.07692307692307693|\n",
            "| 'Chocolate Fudge Brownie Ice Cream',                                             |0.07692307692307693|\n",
            "| 'Light Semisoft Cheese',                                                         |0.07692307692307693|\n",
            "| 'Ultra Thin Oven Roasted Turkey Breast',                                         |0.07692307692307693|\n",
            "| 'Everyday Paper Plates',                                                         |0.07692307692307693|\n",
            "| 'Lemon Gingerade',                                                               |0.07692307692307693|\n",
            "| 'Velveeta Cheesy Skillets Singles Ultimate Cheeseburger Mac',                    |0.07692307692307693|\n",
            "| 'Organic Turmeric Tonic Juice',                                                  |0.07692307692307693|\n",
            "| 'Organic Bunny Fruit Snacks Berry Patch',                                        |0.07692307692307693|\n",
            "| 'Light Butter Microwave Popcorn',                                                |0.07692307692307693|\n",
            "| 'Sweet Potato Tortilla Chips',                                                   |0.07692307692307693|\n",
            "| 'Provolone Slices',                                                              |0.07692307692307693|\n",
            "| 'Bun Length Beef Franks',                                                        |0.07692307692307693|\n",
            "| 'Buttery Spread Light With Flaxseed Oil',                                        |0.07692307692307693|\n",
            "| 'Muddy Buddies Snack Mix Brownie Supreme',                                       |0.15384615384615385|\n",
            "| '100% Oatnut Bread',                                                             |0.15384615384615385|\n",
            "| 'Cold-pressed, Deliciously Hydrating Watermelon Water',                          |0.07692307692307693|\n",
            "| 'Pomegranate Blueberry Juice',                                                   |0.07692307692307693|\n",
            "| 'Classic Movie Theater Popcorn',                                                 |0.07692307692307693|\n",
            "| 'Rising Crust Italian Sausage Pizza',                                            |0.07692307692307693|\n",
            "| 'Original Thin Sausage Pizza',                                                   |0.07692307692307693|\n",
            "| 'Brownberry Country Buttermilk Sandwich Bread',                                  |0.07692307692307693|\n",
            "| 'Organic White Onions',                                                          |0.07692307692307693|\n",
            "| 'Sliced Blueberry Bagels',                                                       |0.07692307692307693|\n",
            "| 'Thin & Crispy Crust Four Cheese Pizza',                                         |0.07692307692307693|\n",
            "| 'Fast Absorbing Body and Face Lotion',                                           |0.07692307692307693|\n",
            "| 'Plain Pre-Sliced Bagels',                                                       |0.23076923076923078|\n",
            "| 'Turkey',                                                                        |0.15384615384615385|\n",
            "| \"Berries 'n Cherries Fruit Snacks\",                                              |0.07692307692307693|\n",
            "| 'Peanut Butter & Chocolate Muddy Buddies Chex Mix',                              |0.07692307692307693|\n",
            "| 'Rotisserie Deli Shave Chicken Breast',                                          |0.07692307692307693|\n",
            "| 'Natural Medium Cheddar Cheese',                                                 |0.07692307692307693|\n",
            "| 'Organic Green Kale',                                                            |0.07692307692307693|\n",
            "| 'Bosc Pear',                                                                     |0.07692307692307693|\n",
            "| 'Honey BBQ Flavored Chicken Strips',                                             |0.07692307692307693|\n",
            "| 'Cranberry Pomegranate Flavor 100% Juice',                                       |0.15384615384615385|\n",
            "| 'Jalapeno Peppers',                                                              |0.07692307692307693|\n",
            "| 'Concord Grape Jelly',                                                           |0.07692307692307693|\n",
            "| 'Cheese Stuffed Crust Three Meat Sausage, Pepperoni & Beef Pizza Topping Pizza', |0.15384615384615385|\n",
            "| 'Special K Red Berries Cereal',                                                  |0.07692307692307693|\n",
            "| 'Philadelphia Cream Cheese',                                                     |0.07692307692307693|\n",
            "| '100% Whole Wheat Bread',                                                        |0.07692307692307693|\n",
            "| 'Go Lean Crunch! Honey Almond Flax Cereal',                                      |0.15384615384615385|\n",
            "| 'Eggo Chocolate Chip Waffles',                                                   |0.07692307692307693|\n",
            "| 'Banana',                                                                        |0.23076923076923078|\n",
            "| 'Sausage, Egg, & Cheese Croissant',                                              |0.07692307692307693|\n",
            "| 'Large Burrito Flour Tortillas',                                                 |0.07692307692307693|\n",
            "| 'Chicken Breast Tenders',                                                        |0.07692307692307693|\n",
            "| 'Sausage, Egg, & Cheese Biscuit',                                                |0.07692307692307693|\n",
            "| 'Tropical Green Fruit & Vegetable Juice',                                        |0.07692307692307693|\n",
            "| 'Turkey Skinless Smoked Sausage',                                                |0.07692307692307693|\n",
            "| 'Value Pack Breast Nuggets',                                                     |0.07692307692307693|\n",
            "| 'Honey Battered Breast Tenders',                                                 |0.07692307692307693|\n",
            "| 'Vanilla Nonfat Yogurt',                                                         |0.15384615384615385|\n",
            "| 'Lactose Free Blueberry Pomegranate Acai Kefir',                                 |0.07692307692307693|\n",
            "| '5 In French Rolls',                                                             |0.07692307692307693|\n",
            "| 'Red Raspberry Leaf Probiotic Kefir Water Tea No. 3',                            |0.07692307692307693|\n",
            "| 'Organic Mashups Mixed Berry',                                                   |0.07692307692307693|\n",
            "| \"Sweet Bread 'N Butter Sandwich Slices Pickles\",                                 |0.07692307692307693|\n",
            "| 'Oats & Honey Granola',                                                          |0.15384615384615385|\n",
            "| 'Four Fruits Preserves',                                                         |0.07692307692307693|\n",
            "| 'Organic Mixed Berry Yogurt & Fruit Snack',                                      |0.07692307692307693|\n",
            "| 'Frozen Breaded Bagged Chicken Nuggets',                                         |0.07692307692307693|\n",
            "| 'Original Nooks & Crannies English Muffins',                                     |0.07692307692307693|\n",
            "| 'Reduced Fat Pepper Jack  Cheese',                                               |0.07692307692307693|\n",
            "| 'Banana',                                                                        |0.3076923076923077 |\n",
            "| 'Plain Mini Bagels',                                                             |0.07692307692307693|\n",
            "| 'Low Moisture Part Skim Mozzarella String Cheese',                               |0.07692307692307693|\n",
            "| 'Nacho Cheese Tortilla Chips',                                                   |0.07692307692307693|\n",
            "| 'Light and Lean 3 Cheese Penne Marinara',                                        |0.07692307692307693|\n",
            "| 'Macaroni & Cheese',                                                             |0.07692307692307693|\n",
            "| 'Italian Style Meatballs & Mozzarella Seasoned Crust',                           |0.07692307692307693|\n",
            "| 'Organic Low Sodium Chicken Broth',                                              |0.07692307692307693|\n",
            "| 'Scoops! Corn Snacks',                                                           |0.07692307692307693|\n",
            "| 'Turkey',                                                                        |0.07692307692307693|\n",
            "| 'Organic Blueberry Blitz Fruit & Veggie Smoothie Mashups',                       |0.07692307692307693|\n",
            "| 'Half Baked Frozen Yogurt',                                                      |0.15384615384615385|\n",
            "| 'Provolone',                                                                     |0.07692307692307693|\n",
            "| 'Natural Havarti Cheese',                                                        |0.07692307692307693|\n",
            "| 'Honeysuckle Nectarine Probiotic Tea Tonic',                                     |0.07692307692307693|\n",
            "| 'Toasted Chips Garden Valley Veggie Wheat Thins',                                |0.07692307692307693|\n",
            "| 'Natural Chunky Peanut Butter',                                                  |0.07692307692307693|\n",
            "| 'Everyday Paper Plates',                                                         |0.07692307692307693|\n",
            "| 'Rehab Lemonade Tea',                                                            |0.3076923076923077 |\n",
            "| '2% Milk',                                                                       |0.07692307692307693|\n",
            "| 'Family Size Naturally Flavored Whole Grain Oats Cereal',                        |0.15384615384615385|\n",
            "| 'Turkey & Cheddar Cracker Stackers',                                             |0.07692307692307693|\n",
            "| 'Organic Fuji Apple',                                                            |0.07692307692307693|\n",
            "| 'Organic Gala Apples',                                                           |0.07692307692307693|\n",
            "| 'Organic Whole Milk',                                                            |0.07692307692307693|\n",
            "| 'Special K Original Cereal',                                                     |0.07692307692307693|\n",
            "| 'Natural Chunky Peanut Butter',                                                  |0.07692307692307693|\n",
            "| 'Whole Wheat Pre-Sliced Mini Bagels',                                            |0.15384615384615385|\n",
            "| 'Organic Greens & Apple Juice',                                                  |0.07692307692307693|\n",
            "| 'Organic Plain Greek Whole Milk Yogurt',                                         |0.07692307692307693|\n",
            "| 'Italian Style Favorites Meatball Marinara Pizza',                               |0.23076923076923078|\n",
            "| 'Taco Flavored Tortilla Chips',                                                  |0.15384615384615385|\n",
            "| 'Natural Sharp Cheddar Sliced Cheese',                                           |0.07692307692307693|\n",
            "| 'Rehab Lemonade Tea',                                                            |0.07692307692307693|\n",
            "| 'After The Rain Gel Air Freshener',                                              |0.23076923076923078|\n",
            "+----------------------------------------------------------------------------------+-------------------+\n",
            "only showing top 100 rows\n",
            "\n",
            "Total time: 2167.2288217544556 seconds"
          ]
        }
      ],
      "source": [
        "# select a product by ID\n",
        "start = time()\n",
        "\n",
        "product = 11\n",
        "friends(product)\n",
        "\n",
        "print(f\"Total time: {time() - start} seconds\")\n"
      ]
    },
    {
      "cell_type": "code",
      "execution_count": null,
      "metadata": {
        "colab": {
          "referenced_widgets": [
            ""
          ]
        },
        "id": "TZ2TgKe5hWl7",
        "outputId": "7c336168-792d-48db-f3b2-9e394abd61ab"
      },
      "outputs": [
        {
          "data": {
            "application/vnd.jupyter.widget-view+json": {
              "model_id": "",
              "version_major": 2,
              "version_minor": 0
            },
            "text/plain": [
              "FloatProgress(value=0.0, bar_style='info', description='Progress:', layout=Layout(height='25px', width='50%'),…"
            ]
          },
          "metadata": {},
          "output_type": "display_data"
        },
        {
          "name": "stdout",
          "output_type": "stream",
          "text": [
            "Product Name:\t Classic Culinary Low Sodium Vegetable Broth\n",
            "product ID:\t 190\n",
            "+---------------------------------------------------------------------------------+-------------------+\n",
            "|product_name                                                                     |confidence         |\n",
            "+---------------------------------------------------------------------------------+-------------------+\n",
            "|'Original No Pulp 100% Florida Orange Juice',                                    |0.03333333333333333|\n",
            "| 'Roasted Salted Peanuts',                                                       |0.03333333333333333|\n",
            "| 'Gluten-Free Original Falafel Chips',                                           |0.03333333333333333|\n",
            "| 'Whole Strawberries',                                                           |0.03333333333333333|\n",
            "| 'Organic Black Beans',                                                          |0.06666666666666667|\n",
            "| 'Cucumber Kirby',                                                               |0.03333333333333333|\n",
            "| 'Globe Eggplant',                                                               |0.03333333333333333|\n",
            "| 'YoBaby Blueberry Apple Yogurt',                                                |0.03333333333333333|\n",
            "| 'Low Fat Plain Yogurt',                                                         |0.03333333333333333|\n",
            "| 'Baby Spinach',                                                                 |0.06666666666666667|\n",
            "| 'Organic Stoneground Wheat Crackers',                                           |0.03333333333333333|\n",
            "| 'Banana',                                                                       |0.16666666666666666|\n",
            "| 'Red Rice Crackers',                                                            |0.03333333333333333|\n",
            "| 'Dried Sweetened Cranberries',                                                  |0.03333333333333333|\n",
            "| 'Gluten Free Pizza Crust',                                                      |0.03333333333333333|\n",
            "| 'Coconut Chocolate Chip',                                                       |0.03333333333333333|\n",
            "| 'Organic Bartlett Pear',                                                        |0.03333333333333333|\n",
            "| 'Honeydew Melon',                                                               |0.03333333333333333|\n",
            "| '100% Recycled 2 Ply Paper Towels',                                             |0.03333333333333333|\n",
            "| 'Organic Garnet Sweet Potato Yam',                                              |0.03333333333333333|\n",
            "| 'Banana',                                                                       |0.03333333333333333|\n",
            "| 'Sport Chocolate Peanut Butter Protein Bar',                                    |0.03333333333333333|\n",
            "| 'Dairy Free Plain Cream Cheese Style Spread',                                   |0.03333333333333333|\n",
            "| 'Organic Cherries',                                                             |0.03333333333333333|\n",
            "| '2% Reduced Fat Milk',                                                          |0.03333333333333333|\n",
            "| 'Brown Omega 3 Large Grade A Eggs',                                             |0.03333333333333333|\n",
            "| 'Toasted Coconut Almondmilk Blend',                                             |0.03333333333333333|\n",
            "| 'Half & Half',                                                                  |0.03333333333333333|\n",
            "| 'Heirloom Bean Veggie Burgers',                                                 |0.03333333333333333|\n",
            "| 'Organic Avocado',                                                              |0.06666666666666667|\n",
            "| 'Double Superfine Mustard Powder, Original English',                            |0.03333333333333333|\n",
            "| 'Original Bobos Bites',                                                         |0.03333333333333333|\n",
            "| 'Limes',                                                                        |0.03333333333333333|\n",
            "| 'Soy & Dairy Free Plain Unsweetened Almond Milk Yogurt',                        |0.03333333333333333|\n",
            "| 'Grassfed Whole Milk Strawberry Yogurt',                                        |0.03333333333333333|\n",
            "| 'GOLEAN Crunch! Cereal',                                                        |0.03333333333333333|\n",
            "| 'Bicolor Sweet Corn',                                                           |0.03333333333333333|\n",
            "| 'Organic Baby Kale',                                                            |0.03333333333333333|\n",
            "| 'Organic Golden Delicious Apple',                                               |0.03333333333333333|\n",
            "| 'Lemon Hummus',                                                                 |0.03333333333333333|\n",
            "| 'Red Plum',                                                                     |0.03333333333333333|\n",
            "| 'Limes',                                                                        |0.16666666666666666|\n",
            "| 'Organic Frozen Mango Chunks',                                                  |0.03333333333333333|\n",
            "| 'Sparkling Lemon Water',                                                        |0.03333333333333333|\n",
            "| 'Organic Living Butter Lettuce',                                                |0.03333333333333333|\n",
            "| 'Organic Penne Rigate',                                                         |0.03333333333333333|\n",
            "| 'Organic Extra Firm Tofu',                                                      |0.06666666666666667|\n",
            "| 'Sparkling Lemon Water',                                                        |0.03333333333333333|\n",
            "| 'Veggie Chips',                                                                 |0.03333333333333333|\n",
            "| 'Mocha Almond Fudge Minis Almond Milk Frozen Dessert',                          |0.03333333333333333|\n",
            "| 'Organic Broccoli Crown',                                                       |0.03333333333333333|\n",
            "| 'Organic Italian Parsley Bunch',                                                |0.03333333333333333|\n",
            "| 'Black Cherry Sparkling Soda',                                                  |0.03333333333333333|\n",
            "| 'Pizza Poppers, Three Cheese',                                                  |0.03333333333333333|\n",
            "| 'Gluten Free Organic Oat Based Cereal',                                         |0.03333333333333333|\n",
            "| 'Organic Short Grain Brown Rice',                                               |0.03333333333333333|\n",
            "| 'Lime & Sea Salt Tortilla Chips',                                               |0.03333333333333333|\n",
            "| 'Wholesome Breakfast Blueberry Banana',                                         |0.03333333333333333|\n",
            "| 'Raw Organic Coconut Karma Truffles',                                           |0.03333333333333333|\n",
            "| 'Lightly Salted Baked Snap Pea Crisps',                                         |0.03333333333333333|\n",
            "| 'Organic Sweetened Cranberries',                                                |0.03333333333333333|\n",
            "| 'Raw Cashew Nut Butter',                                                        |0.03333333333333333|\n",
            "| 'Pineapple Coconut Water',                                                      |0.03333333333333333|\n",
            "| 'Organic Superfood Oat Based Espresso Maca Mulberry Cereal',                    |0.03333333333333333|\n",
            "| 'Four Cheese Tortellini',                                                       |0.03333333333333333|\n",
            "| 'Organic Baby Rainbow Carrots',                                                 |0.03333333333333333|\n",
            "| 'Organic Alphonso Mango Lassi',                                                 |0.03333333333333333|\n",
            "| 'Authentic French Brioche',                                                     |0.03333333333333333|\n",
            "| 'Organic Romaine Lettuce',                                                      |0.03333333333333333|\n",
            "| 'Total 2% All Natural Greek Strained Yogurt with Honey',                        |0.03333333333333333|\n",
            "| 'Organic Yellow Onion',                                                         |0.06666666666666667|\n",
            "| 'Regular Organic Cotton Tampons',                                               |0.03333333333333333|\n",
            "| 'Organic Cannellini Beans',                                                     |0.03333333333333333|\n",
            "| 'Organic Strawberries',                                                         |0.03333333333333333|\n",
            "| 'Cold Brew Coffee Can',                                                         |0.03333333333333333|\n",
            "| 'Organic Red Delicious Apple',                                                  |0.03333333333333333|\n",
            "| 'Organic Zucchini',                                                             |0.06666666666666667|\n",
            "| 'Organic Garlic',                                                               |0.1                |\n",
            "| 'Stage 1 Apples Sweet Potatoes Pumpkin & Blueberries Organic Pureed Baby Food', |0.03333333333333333|\n",
            "| 'Chopped Pecans',                                                               |0.03333333333333333|\n",
            "| 'Stringless Sugar Snap Peas',                                                   |0.03333333333333333|\n",
            "| 'Organic Sticks Low Moisture Part Skim Mozzarella String Cheese',               |0.06666666666666667|\n",
            "| 'Chocolate Coconut Protein Bar',                                                |0.03333333333333333|\n",
            "| 'Petit Suisse Fruit',                                                           |0.03333333333333333|\n",
            "| 'Organic Ginger Root',                                                          |0.03333333333333333|\n",
            "| 'Milk Free Better Than Sour Cream',                                             |0.06666666666666667|\n",
            "| 'Flaky Biscuits',                                                               |0.03333333333333333|\n",
            "| 'Organic Pumpkin Puree',                                                        |0.03333333333333333|\n",
            "| 'Crushed Tomatoes',                                                             |0.03333333333333333|\n",
            "| 'French Roast Single Serve Coffee K-Cups',                                      |0.03333333333333333|\n",
            "| 'Asparagus',                                                                    |0.06666666666666667|\n",
            "| 'Vegetable Dumpling',                                                           |0.03333333333333333|\n",
            "| 'Asparagus Spears',                                                             |0.03333333333333333|\n",
            "| 'Large Lemon',                                                                  |0.03333333333333333|\n",
            "| 'Sweet Italian Chicken Sausage',                                                |0.03333333333333333|\n",
            "| 'Gluten Free Blueberry Waffles',                                                |0.03333333333333333|\n",
            "| 'Organic Raw Agave Nectar',                                                     |0.03333333333333333|\n",
            "| 'Authentic Red Curry Paste',                                                    |0.03333333333333333|\n",
            "| 'Apricot Fruit Spread',                                                         |0.03333333333333333|\n",
            "| 'Basil Pesto',                                                                  |0.03333333333333333|\n",
            "+---------------------------------------------------------------------------------+-------------------+\n",
            "only showing top 100 rows\n",
            "\n",
            "Total time: 2153.6652069091797 seconds"
          ]
        }
      ],
      "source": [
        "# select a product by name\n",
        "\n",
        "start = time()\n",
        "\n",
        "product = \"Classic Culinary Low Sodium Vegetable Broth\"\n",
        "friends(product)\n",
        "\n",
        "print(f\"Total time: {time() - start} seconds\")"
      ]
    },
    {
      "cell_type": "markdown",
      "metadata": {
        "id": "i2Si4xRIhWl7"
      },
      "source": [
        "### below is test"
      ]
    },
    {
      "cell_type": "code",
      "execution_count": null,
      "metadata": {
        "colab": {
          "referenced_widgets": [
            ""
          ]
        },
        "id": "4atm8VyehWl7",
        "outputId": "29a79e5b-478c-4872-dfde-50df42ad6e0f",
        "scrolled": true
      },
      "outputs": [
        {
          "data": {
            "application/vnd.jupyter.widget-view+json": {
              "model_id": "",
              "version_major": 2,
              "version_minor": 0
            },
            "text/plain": [
              "FloatProgress(value=0.0, bar_style='info', description='Progress:', layout=Layout(height='25px', width='50%'),…"
            ]
          },
          "metadata": {},
          "output_type": "display_data"
        },
        {
          "name": "stdout",
          "output_type": "stream",
          "text": [
            "Product Name:\t Peach Mango Juice\n",
            "product ID:\t 11\n",
            "+-------------------------------------------------------------+-----------+\n",
            "|product_name                                                 |confidence |\n",
            "+-------------------------------------------------------------+-----------+\n",
            "|'Pure Vegetable Oil',                                        |0.5        |\n",
            "| 'Strawberries',                                             |0.5        |\n",
            "| 'Eggo Nutri-Grain Whole Wheat Waffles',                     |0.5        |\n",
            "| 'Yellow Onions',                                            |0.5        |\n",
            "| 'Healthy Multgrain Wp Bread',                               |0.5        |\n",
            "| 'Four Cheese Rising Crust Pizza',                           |0.5        |\n",
            "| 'Orange Peach Mango',                                       |0.5        |\n",
            "| 'Hash Browns Country Style',                                |0.5        |\n",
            "| 'ECOS Dishmate Free & Clear Dish Liquid',                   |0.5        |\n",
            "| 'Select-A-Size White Paper Towels',                         |0.5        |\n",
            "| 'Unsweetened Original Almond Breeze Almond Milk',           |0.5        |\n",
            "| 'Limeade',                                                  |0.5        |\n",
            "| 'Orange Bell Pepper',                                       |0.5        |\n",
            "| 'Large Lemon',                                              |0.5        |\n",
            "| 'Shredded Swiss Cheese',                                    |0.5        |\n",
            "| 'Dry Roasted Peanuts',                                      |0.5        |\n",
            "| 'Corned Beef Hash',                                         |0.5        |\n",
            "| 'Ultra Soft Facial Tissues',                                |0.5        |\n",
            "| 'Rich Taste Extra Virgin Olive Oil',                        |0.5        |\n",
            "| 'Organic Small Curd Cottage Cheese',                        |0.5        |\n",
            "| 'Limes',                                                    |0.5        |\n",
            "| 'Natural Classic Pork Breakfast Sausage',                   |0.5        |\n",
            "| 'Creamy Peanut Butter',                                     |0.5        |\n",
            "| 'Original Nooks & Crannies English Muffins',                |1.0        |\n",
            "| 'Hardwood Smoked Bacon',                                    |0.5        |\n",
            "| 'No Pulp Calcium & Vitamin D Pure Orange Juice',            |0.5        |\n",
            "| 'Farmstand Pomegranate Blueberry Fruit & Vegetable  Juice', |0.5        |\n",
            "| 'Total 2% All Natural Greek Strained Yogurt with Honey',    |0.5        |\n",
            "| 'Orange Sparkling Water',                                   |0.5        |\n",
            "| 'Premium Natural Pepper Jack Cheese',                       |0.5        |\n",
            "| 'Calcium Pulp Free Orange Juice',                           |0.5        |\n",
            "| 'Dressing, Jersey Sweet Onion, Calorie Free',               |0.5        |\n",
            "| 'Pop-Tarts Frosted Strawberry Toaster Pastries',            |0.5        |\n",
            "| 'Blueberries',                                              |0.5        |\n",
            "| 'Bite Size Dry Salami Nuggets',                             |0.5        |\n",
            "| 'Ginger Beer',                                              |0.5        |\n",
            "| 'Horseradish Cheddar',                                      |0.5        |\n",
            "| 'Original No Pulp Pure 100% Florida Orange Juice',          |0.5        |\n",
            "| 'Banana',                                                   |1.0        |\n",
            "| 'Organic Whole Milk with DHA Omega-3',                      |0.5        |\n",
            "| 'Diet Ginger Ale',                                          |0.5        |\n",
            "| 'Coke Zero',                                                |0.5        |\n",
            "| 'Outshine Fruit Bars Assorted Fruit',                       |0.5        |\n",
            "+-------------------------------------------------------------+-----------+\n",
            "\n",
            "Total time: 633.3113946914673 seconds"
          ]
        }
      ],
      "source": [
        "# training: to test the code\n",
        "# select a product by ID\n",
        "start = time()\n",
        "\n",
        "product = 11\n",
        "friends(product)\n",
        "\n",
        "print(f\"Total time: {time() - start} seconds\")"
      ]
    },
    {
      "cell_type": "code",
      "execution_count": null,
      "metadata": {
        "colab": {
          "referenced_widgets": [
            ""
          ]
        },
        "id": "Mwix0kpkhWl9",
        "outputId": "f77e9d7e-bcf2-4f30-e0bc-7347c2b4aeb2"
      },
      "outputs": [
        {
          "data": {
            "application/vnd.jupyter.widget-view+json": {
              "model_id": "",
              "version_major": 2,
              "version_minor": 0
            },
            "text/plain": [
              "FloatProgress(value=0.0, bar_style='info', description='Progress:', layout=Layout(height='25px', width='50%'),…"
            ]
          },
          "metadata": {},
          "output_type": "display_data"
        },
        {
          "name": "stdout",
          "output_type": "stream",
          "text": [
            "Product Name:\t Classic Culinary Low Sodium Vegetable Broth\n",
            "product ID:\t 190\n",
            "+----------------------------------------------------------------------+-----------+\n",
            "|product_name                                                          |confidence |\n",
            "+----------------------------------------------------------------------+-----------+\n",
            "|'Margherita Pizza',                                                   |0.25       |\n",
            "| 'Organic Coconut Milk',                                              |0.25       |\n",
            "| 'Organic Mushroom Broth',                                            |0.25       |\n",
            "| 'Diced Tomatoes',                                                    |0.25       |\n",
            "| 'Organics Spinach',                                                  |0.25       |\n",
            "| 'Oven Roasted Turkey',                                               |0.25       |\n",
            "| 'Cold Brew Coffee',                                                  |0.25       |\n",
            "| 'Gluten Free Dark Chocolate Chunk Chewy with a Crunch Granola Bars', |0.25       |\n",
            "| 'Yogurt Covered Pretzels',                                           |0.25       |\n",
            "| 'Free & Clear Unscented Laundry Detergent Packs',                    |0.25       |\n",
            "| 'Mushroom Baby Bella',                                               |0.25       |\n",
            "| 'All One Hemp Peppermint Castile Soap Bar',                          |0.25       |\n",
            "| 'Whole Wheat English Muffins',                                       |0.25       |\n",
            "| 'Sparkling Lemon Water',                                             |0.25       |\n",
            "| 'Organic Chunky Vegetable Soup',                                     |0.25       |\n",
            "| 'Organic Baby Kale',                                                 |0.25       |\n",
            "| 'Free & Clear Natural Dishwasher Detergent',                         |0.25       |\n",
            "| 'Organic SprouTofu Teriyaki Tofu Cutlets',                           |0.25       |\n",
            "| 'Fiber Rich Wheat Tortillas Fajita Size',                            |0.25       |\n",
            "| 'Italian Sausage',                                                   |0.25       |\n",
            "| 'Seasoning Bay Leaf',                                                |0.25       |\n",
            "| 'Organic Turkey Bacon',                                              |0.25       |\n",
            "| 'Organic Leek',                                                      |0.25       |\n",
            "| 'Beyond Chicken Grilled Strips',                                     |0.25       |\n",
            "| 'Organic Italian Parsley Bunch',                                     |0.25       |\n",
            "| 'Organic Baby Spinach',                                              |0.25       |\n",
            "| 'Lightly Salted Baked Snap Pea Crisps',                              |0.25       |\n",
            "| 'Organic Cut Green Beans',                                           |0.25       |\n",
            "| 'Organic Snapped Bean Medley',                                       |0.25       |\n",
            "| 'Honey Bunny Grahams',                                               |0.25       |\n",
            "| 'Organic Whole Kernel Sweet Corn No Salt Added',                     |0.25       |\n",
            "| 'Organic Baby Spinach',                                              |0.25       |\n",
            "| 'XL Emerald White Seedless Grapes',                                  |0.25       |\n",
            "| 'Low Sodium Beef Broth',                                             |0.25       |\n",
            "| 'Sliced White Mushrooms',                                            |0.25       |\n",
            "| 'Pure Coconut Water',                                                |0.25       |\n",
            "| 'European Cucumber',                                                 |0.25       |\n",
            "| 'Oats & Honey Gluten Free Granola',                                  |0.25       |\n",
            "| 'California Cauliflower',                                            |0.25       |\n",
            "| 'Crackers Cheddar Bunnies Snack Packs',                              |0.25       |\n",
            "| 'Organic No Salt Added Diced Tomatoes',                              |0.25       |\n",
            "| 'Brown Eggs',                                                        |0.25       |\n",
            "| 'Strawberry Preserves',                                              |0.25       |\n",
            "| 'Sliced Baby Bella Mushrooms',                                       |0.25       |\n",
            "| 'Organic Bagged Carrots',                                            |0.25       |\n",
            "+----------------------------------------------------------------------+-----------+\n",
            "\n",
            "Total time: 631.9749579429626 seconds"
          ]
        }
      ],
      "source": [
        "# training data: to test the code\n",
        "# select a product by name\n",
        "\n",
        "start = time()\n",
        "\n",
        "product = \"Classic Culinary Low Sodium Vegetable Broth\"\n",
        "friends(product)\n",
        "\n",
        "print(f\"Total time: {time() - start} seconds\")"
      ]
    }
  ],
  "metadata": {
    "colab": {
      "provenance": [],
      "toc_visible": true
    },
    "kernelspec": {
      "display_name": "Python 3 (ipykernel)",
      "language": "python",
      "name": "python3"
    },
    "language_info": {
      "codemirror_mode": {
        "name": "ipython",
        "version": 3
      },
      "file_extension": ".py",
      "mimetype": "text/x-python",
      "name": "python",
      "nbconvert_exporter": "python",
      "pygments_lexer": "ipython3",
      "version": "3.10.13"
    }
  },
  "nbformat": 4,
  "nbformat_minor": 0
}